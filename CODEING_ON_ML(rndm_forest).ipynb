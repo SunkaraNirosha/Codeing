{
 "cells": [
  {
   "cell_type": "code",
   "execution_count": 2,
   "id": "262d5497",
   "metadata": {},
   "outputs": [],
   "source": [
    "import pandas as pd\n",
    "import numpy as np\n",
    "from datetime import date\n",
    "from sklearn.pipeline import Pipeline\n",
    "from sklearn.preprocessing import StandardScaler,OneHotEncoder\n",
    "from sklearn.ensemble import RandomForestRegressor"
   ]
  },
  {
   "cell_type": "code",
   "execution_count": 2,
   "id": "e0fa4c63",
   "metadata": {},
   "outputs": [],
   "source": [
    "data = pd.read_csv(r'C:\\Users\\Dharmendra\\Downloads\\Receipts Data CSV (1).csv',encoding='cp1252')"
   ]
  },
  {
   "cell_type": "code",
   "execution_count": null,
   "id": "c8ff99d5",
   "metadata": {},
   "outputs": [],
   "source": []
  },
  {
   "cell_type": "code",
   "execution_count": 3,
   "id": "f5627a80",
   "metadata": {
    "scrolled": true
   },
   "outputs": [
    {
     "data": {
      "text/html": [
       "<div>\n",
       "<style scoped>\n",
       "    .dataframe tbody tr th:only-of-type {\n",
       "        vertical-align: middle;\n",
       "    }\n",
       "\n",
       "    .dataframe tbody tr th {\n",
       "        vertical-align: top;\n",
       "    }\n",
       "\n",
       "    .dataframe thead th {\n",
       "        text-align: right;\n",
       "    }\n",
       "</style>\n",
       "<table border=\"1\" class=\"dataframe\">\n",
       "  <thead>\n",
       "    <tr style=\"text-align: right;\">\n",
       "      <th></th>\n",
       "      <th>CustomerId</th>\n",
       "      <th>CustomerName</th>\n",
       "      <th>CustomerType</th>\n",
       "      <th>CreditLimit</th>\n",
       "      <th>CreditDays</th>\n",
       "      <th>AverageOrderSize</th>\n",
       "      <th>LengthOfRelationship</th>\n",
       "      <th>InvoiceId</th>\n",
       "      <th>InvoiceDate</th>\n",
       "      <th>InvoiceAmount</th>\n",
       "      <th>PaymentDate</th>\n",
       "      <th>PaymentAmount</th>\n",
       "      <th>PaymentMode</th>\n",
       "    </tr>\n",
       "  </thead>\n",
       "  <tbody>\n",
       "    <tr>\n",
       "      <th>0</th>\n",
       "      <td>OC601487</td>\n",
       "      <td>Rouat Al Suwaiq Intl LLc</td>\n",
       "      <td>TC</td>\n",
       "      <td>2500.0</td>\n",
       "      <td>0</td>\n",
       "      <td>11864.07</td>\n",
       "      <td>773.0</td>\n",
       "      <td>650511000042</td>\n",
       "      <td>2020-12-23</td>\n",
       "      <td>378.350</td>\n",
       "      <td>2023-01-04</td>\n",
       "      <td>11.350</td>\n",
       "      <td>CASH</td>\n",
       "    </tr>\n",
       "    <tr>\n",
       "      <th>1</th>\n",
       "      <td>OC211613</td>\n",
       "      <td>Janoob Al Madeena - Barka Gatemall</td>\n",
       "      <td>Credit</td>\n",
       "      <td>15000.0</td>\n",
       "      <td>CM60</td>\n",
       "      <td>41209.58</td>\n",
       "      <td>791.0</td>\n",
       "      <td>601501000212</td>\n",
       "      <td>2020-12-23</td>\n",
       "      <td>222.675</td>\n",
       "      <td>2023-01-22</td>\n",
       "      <td>119.137</td>\n",
       "      <td>CASH</td>\n",
       "    </tr>\n",
       "    <tr>\n",
       "      <th>2</th>\n",
       "      <td>OC176296</td>\n",
       "      <td>Mehmood Bin Saif - Barka</td>\n",
       "      <td>Credit</td>\n",
       "      <td>3000.0</td>\n",
       "      <td>CM30</td>\n",
       "      <td>10253.67</td>\n",
       "      <td>792.0</td>\n",
       "      <td>601501000244</td>\n",
       "      <td>2020-12-28</td>\n",
       "      <td>136.650</td>\n",
       "      <td>2023-01-22</td>\n",
       "      <td>98.150</td>\n",
       "      <td>CASH</td>\n",
       "    </tr>\n",
       "    <tr>\n",
       "      <th>3</th>\n",
       "      <td>OC603017</td>\n",
       "      <td>Al Mataeb Shopping</td>\n",
       "      <td>TC</td>\n",
       "      <td>5000.0</td>\n",
       "      <td>0</td>\n",
       "      <td>9337.49</td>\n",
       "      <td>778.0</td>\n",
       "      <td>640301000123</td>\n",
       "      <td>2021-01-10</td>\n",
       "      <td>408.025</td>\n",
       "      <td>2023-01-09</td>\n",
       "      <td>12.250</td>\n",
       "      <td>CASH</td>\n",
       "    </tr>\n",
       "    <tr>\n",
       "      <th>4</th>\n",
       "      <td>OC602808</td>\n",
       "      <td>Al Maqloodi Trd Co.LLC</td>\n",
       "      <td>TC</td>\n",
       "      <td>5000.0</td>\n",
       "      <td>0</td>\n",
       "      <td>12780.11</td>\n",
       "      <td>778.0</td>\n",
       "      <td>640301000139</td>\n",
       "      <td>2021-01-11</td>\n",
       "      <td>399.400</td>\n",
       "      <td>2023-01-09</td>\n",
       "      <td>13.975</td>\n",
       "      <td>CASH</td>\n",
       "    </tr>\n",
       "    <tr>\n",
       "      <th>...</th>\n",
       "      <td>...</td>\n",
       "      <td>...</td>\n",
       "      <td>...</td>\n",
       "      <td>...</td>\n",
       "      <td>...</td>\n",
       "      <td>...</td>\n",
       "      <td>...</td>\n",
       "      <td>...</td>\n",
       "      <td>...</td>\n",
       "      <td>...</td>\n",
       "      <td>...</td>\n",
       "      <td>...</td>\n",
       "      <td>...</td>\n",
       "    </tr>\n",
       "    <tr>\n",
       "      <th>146867</th>\n",
       "      <td>OC600091</td>\n",
       "      <td>Yeti Shopping</td>\n",
       "      <td>TC</td>\n",
       "      <td>5000.0</td>\n",
       "      <td>CM30</td>\n",
       "      <td>5572.18</td>\n",
       "      <td>862.0</td>\n",
       "      <td>601511002970</td>\n",
       "      <td>2023-04-03</td>\n",
       "      <td>8.875</td>\n",
       "      <td>2023-04-03</td>\n",
       "      <td>8.875</td>\n",
       "      <td>CASH</td>\n",
       "    </tr>\n",
       "    <tr>\n",
       "      <th>146868</th>\n",
       "      <td>OC601765</td>\n",
       "      <td>White LuLu Shoping</td>\n",
       "      <td>TC</td>\n",
       "      <td>800.0</td>\n",
       "      <td>0</td>\n",
       "      <td>673.79</td>\n",
       "      <td>862.0</td>\n",
       "      <td>650311005588</td>\n",
       "      <td>2023-04-03</td>\n",
       "      <td>9.850</td>\n",
       "      <td>2023-04-03</td>\n",
       "      <td>9.850</td>\n",
       "      <td>CASH</td>\n",
       "    </tr>\n",
       "    <tr>\n",
       "      <th>146869</th>\n",
       "      <td>OC602905</td>\n",
       "      <td>Kharan Muntrib</td>\n",
       "      <td>TC</td>\n",
       "      <td>5000.0</td>\n",
       "      <td>0</td>\n",
       "      <td>687.72</td>\n",
       "      <td>862.0</td>\n",
       "      <td>630211006111</td>\n",
       "      <td>2023-04-03</td>\n",
       "      <td>25.900</td>\n",
       "      <td>2023-04-03</td>\n",
       "      <td>8.150</td>\n",
       "      <td>CASH</td>\n",
       "    </tr>\n",
       "    <tr>\n",
       "      <th>146870</th>\n",
       "      <td>UC716015</td>\n",
       "      <td>Acura Mini Mart</td>\n",
       "      <td>TC</td>\n",
       "      <td>5000.0</td>\n",
       "      <td>0</td>\n",
       "      <td>4970.38</td>\n",
       "      <td>867.0</td>\n",
       "      <td>400411007884</td>\n",
       "      <td>2023-04-03</td>\n",
       "      <td>1416.250</td>\n",
       "      <td>2023-04-03</td>\n",
       "      <td>1416.250</td>\n",
       "      <td>CASH</td>\n",
       "    </tr>\n",
       "    <tr>\n",
       "      <th>146871</th>\n",
       "      <td>UC716017</td>\n",
       "      <td>Royal Express Mini Mart LLC</td>\n",
       "      <td>TC</td>\n",
       "      <td>5000.0</td>\n",
       "      <td>0</td>\n",
       "      <td>1439.04</td>\n",
       "      <td>867.0</td>\n",
       "      <td>400411007889</td>\n",
       "      <td>2023-04-03</td>\n",
       "      <td>63.000</td>\n",
       "      <td>2023-04-03</td>\n",
       "      <td>63.000</td>\n",
       "      <td>CASH</td>\n",
       "    </tr>\n",
       "  </tbody>\n",
       "</table>\n",
       "<p>146872 rows × 13 columns</p>\n",
       "</div>"
      ],
      "text/plain": [
       "       CustomerId                        CustomerName CustomerType   \n",
       "0        OC601487            Rouat Al Suwaiq Intl LLc           TC  \\\n",
       "1        OC211613  Janoob Al Madeena - Barka Gatemall       Credit   \n",
       "2        OC176296            Mehmood Bin Saif - Barka       Credit   \n",
       "3        OC603017                  Al Mataeb Shopping           TC   \n",
       "4        OC602808              Al Maqloodi Trd Co.LLC           TC   \n",
       "...           ...                                 ...          ...   \n",
       "146867   OC600091                       Yeti Shopping           TC   \n",
       "146868   OC601765                  White LuLu Shoping           TC   \n",
       "146869   OC602905                      Kharan Muntrib           TC   \n",
       "146870   UC716015                     Acura Mini Mart           TC   \n",
       "146871   UC716017         Royal Express Mini Mart LLC           TC   \n",
       "\n",
       "        CreditLimit CreditDays  AverageOrderSize  LengthOfRelationship   \n",
       "0            2500.0          0          11864.07                 773.0  \\\n",
       "1           15000.0       CM60          41209.58                 791.0   \n",
       "2            3000.0       CM30          10253.67                 792.0   \n",
       "3            5000.0          0           9337.49                 778.0   \n",
       "4            5000.0          0          12780.11                 778.0   \n",
       "...             ...        ...               ...                   ...   \n",
       "146867       5000.0       CM30           5572.18                 862.0   \n",
       "146868        800.0          0            673.79                 862.0   \n",
       "146869       5000.0          0            687.72                 862.0   \n",
       "146870       5000.0          0           4970.38                 867.0   \n",
       "146871       5000.0          0           1439.04                 867.0   \n",
       "\n",
       "           InvoiceId InvoiceDate  InvoiceAmount PaymentDate  PaymentAmount   \n",
       "0       650511000042  2020-12-23        378.350  2023-01-04         11.350  \\\n",
       "1       601501000212  2020-12-23        222.675  2023-01-22        119.137   \n",
       "2       601501000244  2020-12-28        136.650  2023-01-22         98.150   \n",
       "3       640301000123  2021-01-10        408.025  2023-01-09         12.250   \n",
       "4       640301000139  2021-01-11        399.400  2023-01-09         13.975   \n",
       "...              ...         ...            ...         ...            ...   \n",
       "146867  601511002970  2023-04-03          8.875  2023-04-03          8.875   \n",
       "146868  650311005588  2023-04-03          9.850  2023-04-03          9.850   \n",
       "146869  630211006111  2023-04-03         25.900  2023-04-03          8.150   \n",
       "146870  400411007884  2023-04-03       1416.250  2023-04-03       1416.250   \n",
       "146871  400411007889  2023-04-03         63.000  2023-04-03         63.000   \n",
       "\n",
       "       PaymentMode  \n",
       "0             CASH  \n",
       "1             CASH  \n",
       "2             CASH  \n",
       "3             CASH  \n",
       "4             CASH  \n",
       "...            ...  \n",
       "146867        CASH  \n",
       "146868        CASH  \n",
       "146869        CASH  \n",
       "146870        CASH  \n",
       "146871        CASH  \n",
       "\n",
       "[146872 rows x 13 columns]"
      ]
     },
     "execution_count": 3,
     "metadata": {},
     "output_type": "execute_result"
    }
   ],
   "source": [
    "data.dropna(inplace=True)\n",
    "data"
   ]
  },
  {
   "cell_type": "markdown",
   "id": "615c69b9",
   "metadata": {},
   "source": [
    "dropping the nan values"
   ]
  },
  {
   "cell_type": "code",
   "execution_count": 4,
   "id": "abab9f56",
   "metadata": {},
   "outputs": [
    {
     "name": "stdout",
     "output_type": "stream",
     "text": [
      "<class 'pandas.core.frame.DataFrame'>\n",
      "Index: 146872 entries, 0 to 146871\n",
      "Data columns (total 13 columns):\n",
      " #   Column                Non-Null Count   Dtype  \n",
      "---  ------                --------------   -----  \n",
      " 0   CustomerId            146872 non-null  object \n",
      " 1   CustomerName          146872 non-null  object \n",
      " 2   CustomerType          146872 non-null  object \n",
      " 3   CreditLimit           146872 non-null  float64\n",
      " 4   CreditDays            146872 non-null  object \n",
      " 5   AverageOrderSize      146872 non-null  float64\n",
      " 6   LengthOfRelationship  146872 non-null  float64\n",
      " 7   InvoiceId             146872 non-null  object \n",
      " 8   InvoiceDate           146872 non-null  object \n",
      " 9   InvoiceAmount         146872 non-null  float64\n",
      " 10  PaymentDate           146872 non-null  object \n",
      " 11  PaymentAmount         146872 non-null  float64\n",
      " 12  PaymentMode           146872 non-null  object \n",
      "dtypes: float64(5), object(8)\n",
      "memory usage: 15.7+ MB\n"
     ]
    }
   ],
   "source": [
    "data.info()"
   ]
  },
  {
   "cell_type": "code",
   "execution_count": 5,
   "id": "6cf7c848",
   "metadata": {},
   "outputs": [],
   "source": [
    "data[['InvoiceDate']]=pd.DataFrame(pd.to_datetime(data['InvoiceDate']))"
   ]
  },
  {
   "cell_type": "markdown",
   "id": "6b12da27",
   "metadata": {},
   "source": [
    "converting the invoicedata column to datetime"
   ]
  },
  {
   "cell_type": "code",
   "execution_count": 6,
   "id": "0c73fc20",
   "metadata": {},
   "outputs": [],
   "source": [
    "days_between_invoices = data.groupby('CustomerId')['InvoiceDate'].diff().dt.days"
   ]
  },
  {
   "cell_type": "code",
   "execution_count": 7,
   "id": "f0e1d2e7",
   "metadata": {},
   "outputs": [],
   "source": [
    "average_days_between_invoices = days_between_invoices.groupby(data['CustomerId']).mean()"
   ]
  },
  {
   "cell_type": "code",
   "execution_count": 8,
   "id": "000dff5c",
   "metadata": {},
   "outputs": [
    {
     "data": {
      "text/plain": [
       "CustomerId\n",
       "96600001     8.000000\n",
       "96600016    11.714286\n",
       "96600020     5.789474\n",
       "96600021     8.000000\n",
       "96600022    14.500000\n",
       "              ...    \n",
       "UC717035    21.000000\n",
       "UC717036    15.666667\n",
       "UC717039    21.000000\n",
       "UC717041    19.000000\n",
       "UC717044    17.500000\n",
       "Name: InvoiceDate, Length: 16049, dtype: float64"
      ]
     },
     "execution_count": 8,
     "metadata": {},
     "output_type": "execute_result"
    }
   ],
   "source": [
    "average_days_between_invoices"
   ]
  },
  {
   "cell_type": "code",
   "execution_count": 9,
   "id": "00541ca7",
   "metadata": {},
   "outputs": [],
   "source": [
    "order_frequency = (average_days_between_invoices).fillna(0)"
   ]
  },
  {
   "cell_type": "code",
   "execution_count": 10,
   "id": "5b1aa9dd",
   "metadata": {},
   "outputs": [
    {
     "data": {
      "text/plain": [
       "CustomerId\n",
       "96600001     8.000000\n",
       "96600016    11.714286\n",
       "96600020     5.789474\n",
       "96600021     8.000000\n",
       "96600022    14.500000\n",
       "              ...    \n",
       "UC717035    21.000000\n",
       "UC717036    15.666667\n",
       "UC717039    21.000000\n",
       "UC717041    19.000000\n",
       "UC717044    17.500000\n",
       "Name: InvoiceDate, Length: 16049, dtype: float64"
      ]
     },
     "execution_count": 10,
     "metadata": {},
     "output_type": "execute_result"
    }
   ],
   "source": [
    "order_frequency"
   ]
  },
  {
   "cell_type": "code",
   "execution_count": 11,
   "id": "f43a1e3c",
   "metadata": {},
   "outputs": [],
   "source": [
    "of = pd.DataFrame(order_frequency).reset_index()\n",
    "of_dict = of.to_dict()"
   ]
  },
  {
   "cell_type": "code",
   "execution_count": 12,
   "id": "90b9ff17",
   "metadata": {},
   "outputs": [],
   "source": [
    "of_dicts = dict(zip(of_dict['CustomerId'].values(),of_dict['InvoiceDate'].values()))"
   ]
  },
  {
   "cell_type": "code",
   "execution_count": 13,
   "id": "cbd54b39",
   "metadata": {},
   "outputs": [],
   "source": [
    "of_list = []\n",
    "for i in range(len(data)):\n",
    "    of_list.append(of_dicts.get(data[['CustomerId']].loc[i][0]))"
   ]
  },
  {
   "cell_type": "code",
   "execution_count": 14,
   "id": "f5096fe7",
   "metadata": {},
   "outputs": [
    {
     "data": {
      "text/plain": [
       "146872"
      ]
     },
     "execution_count": 14,
     "metadata": {},
     "output_type": "execute_result"
    }
   ],
   "source": [
    "len(of_list)"
   ]
  },
  {
   "cell_type": "code",
   "execution_count": 15,
   "id": "fea3b642",
   "metadata": {},
   "outputs": [],
   "source": [
    "data[['order_frequency']] = pd.DataFrame([of_list]).T"
   ]
  },
  {
   "cell_type": "markdown",
   "id": "93853c66",
   "metadata": {},
   "source": [
    "adding the order_frequency column to data"
   ]
  },
  {
   "cell_type": "code",
   "execution_count": 16,
   "id": "00ac0d86",
   "metadata": {},
   "outputs": [],
   "source": [
    "days_since_invoice = (pd.to_datetime(date.today()) - pd.to_datetime(data['InvoiceDate'])).dt.days"
   ]
  },
  {
   "cell_type": "code",
   "execution_count": 17,
   "id": "711b2bdf",
   "metadata": {},
   "outputs": [],
   "source": [
    "days_since_last_invoice = days_since_invoice.groupby(data['CustomerId']).min()"
   ]
  },
  {
   "cell_type": "code",
   "execution_count": 18,
   "id": "f815750c",
   "metadata": {},
   "outputs": [],
   "source": [
    "days_since_last_payment = (pd.to_datetime(date.today()) - pd.to_datetime(data['PaymentDate'])).dt.days.groupby(data['CustomerId']).min()"
   ]
  },
  {
   "cell_type": "code",
   "execution_count": 19,
   "id": "0d40db6f",
   "metadata": {},
   "outputs": [],
   "source": [
    "average_payment_amount = data.groupby('CustomerId')['PaymentAmount'].mean()"
   ]
  },
  {
   "cell_type": "code",
   "execution_count": 20,
   "id": "4a9462d8",
   "metadata": {},
   "outputs": [],
   "source": [
    "average_invoice_amount = data.groupby('CustomerId')['InvoiceAmount'].mean()"
   ]
  },
  {
   "cell_type": "code",
   "execution_count": 21,
   "id": "c23e3444",
   "metadata": {},
   "outputs": [],
   "source": [
    "def f1(x):\n",
    "    x = x.strip('CM')\n",
    "    return x"
   ]
  },
  {
   "cell_type": "code",
   "execution_count": 22,
   "id": "05e818fc",
   "metadata": {},
   "outputs": [],
   "source": [
    "data[['CreditDays']] = pd.DataFrame(data['CreditDays'].apply(f1).apply(int))"
   ]
  },
  {
   "cell_type": "markdown",
   "id": "2589acbf",
   "metadata": {},
   "source": [
    "changing the creditdays columns to numerical column"
   ]
  },
  {
   "cell_type": "code",
   "execution_count": 23,
   "id": "1ae5f01b",
   "metadata": {},
   "outputs": [],
   "source": [
    "average_days_late = (days_since_last_payment) - data['CreditDays'].groupby(data['CustomerId']).min()"
   ]
  },
  {
   "cell_type": "code",
   "execution_count": 24,
   "id": "cb782097",
   "metadata": {},
   "outputs": [],
   "source": [
    "late_payment_frequency = (days_since_last_payment) - data['CreditDays'].groupby(data['CustomerId']).count()"
   ]
  },
  {
   "cell_type": "code",
   "execution_count": 26,
   "id": "3531d14b",
   "metadata": {
    "scrolled": true
   },
   "outputs": [],
   "source": [
    "features = data.drop(['CustomerId', 'InvoiceDate','CreditLimit','CustomerName','InvoiceId','PaymentDate'], axis=1)\n",
    "target = data[['CreditLimit']]"
   ]
  },
  {
   "cell_type": "markdown",
   "id": "55876437",
   "metadata": {},
   "source": [
    "### SPLITING OF DATA TO TRAIN AND TEST"
   ]
  },
  {
   "cell_type": "code",
   "execution_count": 27,
   "id": "d30ae76a",
   "metadata": {},
   "outputs": [],
   "source": [
    "train_features = features[0:round(146872*0.8)]\n",
    "train_target = target[0:round(146872*0.8)]\n",
    "test_features = features[round(146872*0.8):]\n",
    "test_target = target[round(146872*0.8):]"
   ]
  },
  {
   "cell_type": "code",
   "execution_count": 28,
   "id": "fa799e0a",
   "metadata": {},
   "outputs": [],
   "source": [
    "test_features_index = test_features.index"
   ]
  },
  {
   "cell_type": "code",
   "execution_count": 29,
   "id": "f8adb145",
   "metadata": {},
   "outputs": [],
   "source": [
    "test_features.reset_index(drop=True,inplace=True)\n",
    "test_target.reset_index(drop=True,inplace=True)"
   ]
  },
  {
   "cell_type": "code",
   "execution_count": 30,
   "id": "8eecfcb2",
   "metadata": {},
   "outputs": [],
   "source": [
    "pipeline = Pipeline([\n",
    "    ('regressor', RandomForestRegressor(n_estimators=100, random_state=42))\n",
    "])"
   ]
  },
  {
   "cell_type": "code",
   "execution_count": 31,
   "id": "1a5f6e4f",
   "metadata": {},
   "outputs": [],
   "source": [
    "obj_columns = list(features.select_dtypes(include='object').columns)"
   ]
  },
  {
   "cell_type": "markdown",
   "id": "08541a7c",
   "metadata": {},
   "source": [
    "### CATOGIRICAL TO NUMERICAL AND STANDARIZING THE COLUMNS "
   ]
  },
  {
   "cell_type": "code",
   "execution_count": 32,
   "id": "6d0b127f",
   "metadata": {},
   "outputs": [],
   "source": [
    "ohe = OneHotEncoder()\n",
    "a = ohe.fit_transform(train_features[obj_columns]).toarray()\n",
    "ohe_data = pd.DataFrame(a,columns=['ct_CASH', 'Credit', 'TC', 'pm_CASH', 'CHEQUE', 'ONLINE', 'POS'])"
   ]
  },
  {
   "cell_type": "code",
   "execution_count": 33,
   "id": "c98b784e",
   "metadata": {},
   "outputs": [],
   "source": [
    "train_features = train_features.join(ohe_data)"
   ]
  },
  {
   "cell_type": "code",
   "execution_count": 34,
   "id": "9f875b5a",
   "metadata": {},
   "outputs": [],
   "source": [
    "train_features.drop(obj_columns,axis=1,inplace=True)"
   ]
  },
  {
   "cell_type": "code",
   "execution_count": 35,
   "id": "7a470c17",
   "metadata": {},
   "outputs": [],
   "source": [
    "std = StandardScaler()"
   ]
  },
  {
   "cell_type": "code",
   "execution_count": 36,
   "id": "f9d803cb",
   "metadata": {},
   "outputs": [],
   "source": [
    "train_features = pd.DataFrame(std.fit_transform(train_features))"
   ]
  },
  {
   "cell_type": "code",
   "execution_count": 37,
   "id": "0722ce2d",
   "metadata": {},
   "outputs": [],
   "source": [
    "b = ohe.transform(test_features[obj_columns]) .toarray()"
   ]
  },
  {
   "cell_type": "code",
   "execution_count": 38,
   "id": "a37234f0",
   "metadata": {},
   "outputs": [],
   "source": [
    "ohe_test_data = pd.DataFrame(b,columns=['ct_CASH', 'Credit', 'TC', 'pm_CASH', 'CHEQUE', 'ONLINE', 'POS'])"
   ]
  },
  {
   "cell_type": "code",
   "execution_count": 39,
   "id": "029ba3e4",
   "metadata": {},
   "outputs": [
    {
     "data": {
      "text/html": [
       "<div>\n",
       "<style scoped>\n",
       "    .dataframe tbody tr th:only-of-type {\n",
       "        vertical-align: middle;\n",
       "    }\n",
       "\n",
       "    .dataframe tbody tr th {\n",
       "        vertical-align: top;\n",
       "    }\n",
       "\n",
       "    .dataframe thead th {\n",
       "        text-align: right;\n",
       "    }\n",
       "</style>\n",
       "<table border=\"1\" class=\"dataframe\">\n",
       "  <thead>\n",
       "    <tr style=\"text-align: right;\">\n",
       "      <th></th>\n",
       "      <th>ct_CASH</th>\n",
       "      <th>Credit</th>\n",
       "      <th>TC</th>\n",
       "      <th>pm_CASH</th>\n",
       "      <th>CHEQUE</th>\n",
       "      <th>ONLINE</th>\n",
       "      <th>POS</th>\n",
       "    </tr>\n",
       "  </thead>\n",
       "  <tbody>\n",
       "    <tr>\n",
       "      <th>0</th>\n",
       "      <td>0.0</td>\n",
       "      <td>0.0</td>\n",
       "      <td>1.0</td>\n",
       "      <td>1.0</td>\n",
       "      <td>0.0</td>\n",
       "      <td>0.0</td>\n",
       "      <td>0.0</td>\n",
       "    </tr>\n",
       "    <tr>\n",
       "      <th>1</th>\n",
       "      <td>0.0</td>\n",
       "      <td>0.0</td>\n",
       "      <td>1.0</td>\n",
       "      <td>1.0</td>\n",
       "      <td>0.0</td>\n",
       "      <td>0.0</td>\n",
       "      <td>0.0</td>\n",
       "    </tr>\n",
       "    <tr>\n",
       "      <th>2</th>\n",
       "      <td>0.0</td>\n",
       "      <td>0.0</td>\n",
       "      <td>1.0</td>\n",
       "      <td>1.0</td>\n",
       "      <td>0.0</td>\n",
       "      <td>0.0</td>\n",
       "      <td>0.0</td>\n",
       "    </tr>\n",
       "    <tr>\n",
       "      <th>3</th>\n",
       "      <td>0.0</td>\n",
       "      <td>0.0</td>\n",
       "      <td>1.0</td>\n",
       "      <td>1.0</td>\n",
       "      <td>0.0</td>\n",
       "      <td>0.0</td>\n",
       "      <td>0.0</td>\n",
       "    </tr>\n",
       "    <tr>\n",
       "      <th>4</th>\n",
       "      <td>0.0</td>\n",
       "      <td>0.0</td>\n",
       "      <td>1.0</td>\n",
       "      <td>0.0</td>\n",
       "      <td>0.0</td>\n",
       "      <td>0.0</td>\n",
       "      <td>1.0</td>\n",
       "    </tr>\n",
       "    <tr>\n",
       "      <th>...</th>\n",
       "      <td>...</td>\n",
       "      <td>...</td>\n",
       "      <td>...</td>\n",
       "      <td>...</td>\n",
       "      <td>...</td>\n",
       "      <td>...</td>\n",
       "      <td>...</td>\n",
       "    </tr>\n",
       "    <tr>\n",
       "      <th>29369</th>\n",
       "      <td>0.0</td>\n",
       "      <td>0.0</td>\n",
       "      <td>1.0</td>\n",
       "      <td>1.0</td>\n",
       "      <td>0.0</td>\n",
       "      <td>0.0</td>\n",
       "      <td>0.0</td>\n",
       "    </tr>\n",
       "    <tr>\n",
       "      <th>29370</th>\n",
       "      <td>0.0</td>\n",
       "      <td>0.0</td>\n",
       "      <td>1.0</td>\n",
       "      <td>1.0</td>\n",
       "      <td>0.0</td>\n",
       "      <td>0.0</td>\n",
       "      <td>0.0</td>\n",
       "    </tr>\n",
       "    <tr>\n",
       "      <th>29371</th>\n",
       "      <td>0.0</td>\n",
       "      <td>0.0</td>\n",
       "      <td>1.0</td>\n",
       "      <td>1.0</td>\n",
       "      <td>0.0</td>\n",
       "      <td>0.0</td>\n",
       "      <td>0.0</td>\n",
       "    </tr>\n",
       "    <tr>\n",
       "      <th>29372</th>\n",
       "      <td>0.0</td>\n",
       "      <td>0.0</td>\n",
       "      <td>1.0</td>\n",
       "      <td>1.0</td>\n",
       "      <td>0.0</td>\n",
       "      <td>0.0</td>\n",
       "      <td>0.0</td>\n",
       "    </tr>\n",
       "    <tr>\n",
       "      <th>29373</th>\n",
       "      <td>0.0</td>\n",
       "      <td>0.0</td>\n",
       "      <td>1.0</td>\n",
       "      <td>1.0</td>\n",
       "      <td>0.0</td>\n",
       "      <td>0.0</td>\n",
       "      <td>0.0</td>\n",
       "    </tr>\n",
       "  </tbody>\n",
       "</table>\n",
       "<p>29374 rows × 7 columns</p>\n",
       "</div>"
      ],
      "text/plain": [
       "       ct_CASH  Credit   TC  pm_CASH  CHEQUE  ONLINE  POS\n",
       "0          0.0     0.0  1.0      1.0     0.0     0.0  0.0\n",
       "1          0.0     0.0  1.0      1.0     0.0     0.0  0.0\n",
       "2          0.0     0.0  1.0      1.0     0.0     0.0  0.0\n",
       "3          0.0     0.0  1.0      1.0     0.0     0.0  0.0\n",
       "4          0.0     0.0  1.0      0.0     0.0     0.0  1.0\n",
       "...        ...     ...  ...      ...     ...     ...  ...\n",
       "29369      0.0     0.0  1.0      1.0     0.0     0.0  0.0\n",
       "29370      0.0     0.0  1.0      1.0     0.0     0.0  0.0\n",
       "29371      0.0     0.0  1.0      1.0     0.0     0.0  0.0\n",
       "29372      0.0     0.0  1.0      1.0     0.0     0.0  0.0\n",
       "29373      0.0     0.0  1.0      1.0     0.0     0.0  0.0\n",
       "\n",
       "[29374 rows x 7 columns]"
      ]
     },
     "execution_count": 39,
     "metadata": {},
     "output_type": "execute_result"
    }
   ],
   "source": [
    "ohe_test_data"
   ]
  },
  {
   "cell_type": "code",
   "execution_count": 40,
   "id": "d41d61a1",
   "metadata": {},
   "outputs": [],
   "source": [
    "test_features = test_features.join(ohe_test_data)"
   ]
  },
  {
   "cell_type": "code",
   "execution_count": 41,
   "id": "eb25e116",
   "metadata": {},
   "outputs": [
    {
     "data": {
      "text/html": [
       "<div>\n",
       "<style scoped>\n",
       "    .dataframe tbody tr th:only-of-type {\n",
       "        vertical-align: middle;\n",
       "    }\n",
       "\n",
       "    .dataframe tbody tr th {\n",
       "        vertical-align: top;\n",
       "    }\n",
       "\n",
       "    .dataframe thead th {\n",
       "        text-align: right;\n",
       "    }\n",
       "</style>\n",
       "<table border=\"1\" class=\"dataframe\">\n",
       "  <thead>\n",
       "    <tr style=\"text-align: right;\">\n",
       "      <th></th>\n",
       "      <th>CustomerType</th>\n",
       "      <th>CreditDays</th>\n",
       "      <th>AverageOrderSize</th>\n",
       "      <th>LengthOfRelationship</th>\n",
       "      <th>InvoiceAmount</th>\n",
       "      <th>PaymentAmount</th>\n",
       "      <th>PaymentMode</th>\n",
       "      <th>order_frequency</th>\n",
       "      <th>ct_CASH</th>\n",
       "      <th>Credit</th>\n",
       "      <th>TC</th>\n",
       "      <th>pm_CASH</th>\n",
       "      <th>CHEQUE</th>\n",
       "      <th>ONLINE</th>\n",
       "      <th>POS</th>\n",
       "    </tr>\n",
       "  </thead>\n",
       "  <tbody>\n",
       "    <tr>\n",
       "      <th>0</th>\n",
       "      <td>TC</td>\n",
       "      <td>30</td>\n",
       "      <td>35647.47</td>\n",
       "      <td>730.0</td>\n",
       "      <td>1021.650</td>\n",
       "      <td>1021.650</td>\n",
       "      <td>CASH</td>\n",
       "      <td>7.375000</td>\n",
       "      <td>0.0</td>\n",
       "      <td>0.0</td>\n",
       "      <td>1.0</td>\n",
       "      <td>1.0</td>\n",
       "      <td>0.0</td>\n",
       "      <td>0.0</td>\n",
       "      <td>0.0</td>\n",
       "    </tr>\n",
       "    <tr>\n",
       "      <th>1</th>\n",
       "      <td>TC</td>\n",
       "      <td>30</td>\n",
       "      <td>16300.90</td>\n",
       "      <td>710.0</td>\n",
       "      <td>2923.550</td>\n",
       "      <td>500.000</td>\n",
       "      <td>CASH</td>\n",
       "      <td>7.000000</td>\n",
       "      <td>0.0</td>\n",
       "      <td>0.0</td>\n",
       "      <td>1.0</td>\n",
       "      <td>1.0</td>\n",
       "      <td>0.0</td>\n",
       "      <td>0.0</td>\n",
       "      <td>0.0</td>\n",
       "    </tr>\n",
       "    <tr>\n",
       "      <th>2</th>\n",
       "      <td>TC</td>\n",
       "      <td>30</td>\n",
       "      <td>40285.64</td>\n",
       "      <td>722.0</td>\n",
       "      <td>2211.090</td>\n",
       "      <td>150.000</td>\n",
       "      <td>CASH</td>\n",
       "      <td>3.758621</td>\n",
       "      <td>0.0</td>\n",
       "      <td>0.0</td>\n",
       "      <td>1.0</td>\n",
       "      <td>1.0</td>\n",
       "      <td>0.0</td>\n",
       "      <td>0.0</td>\n",
       "      <td>0.0</td>\n",
       "    </tr>\n",
       "    <tr>\n",
       "      <th>3</th>\n",
       "      <td>TC</td>\n",
       "      <td>30</td>\n",
       "      <td>25648.04</td>\n",
       "      <td>703.0</td>\n",
       "      <td>69.410</td>\n",
       "      <td>69.410</td>\n",
       "      <td>CASH</td>\n",
       "      <td>4.388889</td>\n",
       "      <td>0.0</td>\n",
       "      <td>0.0</td>\n",
       "      <td>1.0</td>\n",
       "      <td>1.0</td>\n",
       "      <td>0.0</td>\n",
       "      <td>0.0</td>\n",
       "      <td>0.0</td>\n",
       "    </tr>\n",
       "    <tr>\n",
       "      <th>4</th>\n",
       "      <td>TC</td>\n",
       "      <td>30</td>\n",
       "      <td>13555.68</td>\n",
       "      <td>705.0</td>\n",
       "      <td>2555.440</td>\n",
       "      <td>2555.440</td>\n",
       "      <td>POS</td>\n",
       "      <td>5.923077</td>\n",
       "      <td>0.0</td>\n",
       "      <td>0.0</td>\n",
       "      <td>1.0</td>\n",
       "      <td>0.0</td>\n",
       "      <td>0.0</td>\n",
       "      <td>0.0</td>\n",
       "      <td>1.0</td>\n",
       "    </tr>\n",
       "    <tr>\n",
       "      <th>...</th>\n",
       "      <td>...</td>\n",
       "      <td>...</td>\n",
       "      <td>...</td>\n",
       "      <td>...</td>\n",
       "      <td>...</td>\n",
       "      <td>...</td>\n",
       "      <td>...</td>\n",
       "      <td>...</td>\n",
       "      <td>...</td>\n",
       "      <td>...</td>\n",
       "      <td>...</td>\n",
       "      <td>...</td>\n",
       "      <td>...</td>\n",
       "      <td>...</td>\n",
       "      <td>...</td>\n",
       "    </tr>\n",
       "    <tr>\n",
       "      <th>29369</th>\n",
       "      <td>TC</td>\n",
       "      <td>30</td>\n",
       "      <td>5572.18</td>\n",
       "      <td>862.0</td>\n",
       "      <td>8.875</td>\n",
       "      <td>8.875</td>\n",
       "      <td>CASH</td>\n",
       "      <td>5.740741</td>\n",
       "      <td>0.0</td>\n",
       "      <td>0.0</td>\n",
       "      <td>1.0</td>\n",
       "      <td>1.0</td>\n",
       "      <td>0.0</td>\n",
       "      <td>0.0</td>\n",
       "      <td>0.0</td>\n",
       "    </tr>\n",
       "    <tr>\n",
       "      <th>29370</th>\n",
       "      <td>TC</td>\n",
       "      <td>0</td>\n",
       "      <td>673.79</td>\n",
       "      <td>862.0</td>\n",
       "      <td>9.850</td>\n",
       "      <td>9.850</td>\n",
       "      <td>CASH</td>\n",
       "      <td>19.500000</td>\n",
       "      <td>0.0</td>\n",
       "      <td>0.0</td>\n",
       "      <td>1.0</td>\n",
       "      <td>1.0</td>\n",
       "      <td>0.0</td>\n",
       "      <td>0.0</td>\n",
       "      <td>0.0</td>\n",
       "    </tr>\n",
       "    <tr>\n",
       "      <th>29371</th>\n",
       "      <td>TC</td>\n",
       "      <td>0</td>\n",
       "      <td>687.72</td>\n",
       "      <td>862.0</td>\n",
       "      <td>25.900</td>\n",
       "      <td>8.150</td>\n",
       "      <td>CASH</td>\n",
       "      <td>7.875000</td>\n",
       "      <td>0.0</td>\n",
       "      <td>0.0</td>\n",
       "      <td>1.0</td>\n",
       "      <td>1.0</td>\n",
       "      <td>0.0</td>\n",
       "      <td>0.0</td>\n",
       "      <td>0.0</td>\n",
       "    </tr>\n",
       "    <tr>\n",
       "      <th>29372</th>\n",
       "      <td>TC</td>\n",
       "      <td>0</td>\n",
       "      <td>4970.38</td>\n",
       "      <td>867.0</td>\n",
       "      <td>1416.250</td>\n",
       "      <td>1416.250</td>\n",
       "      <td>CASH</td>\n",
       "      <td>12.800000</td>\n",
       "      <td>0.0</td>\n",
       "      <td>0.0</td>\n",
       "      <td>1.0</td>\n",
       "      <td>1.0</td>\n",
       "      <td>0.0</td>\n",
       "      <td>0.0</td>\n",
       "      <td>0.0</td>\n",
       "    </tr>\n",
       "    <tr>\n",
       "      <th>29373</th>\n",
       "      <td>TC</td>\n",
       "      <td>0</td>\n",
       "      <td>1439.04</td>\n",
       "      <td>867.0</td>\n",
       "      <td>63.000</td>\n",
       "      <td>63.000</td>\n",
       "      <td>CASH</td>\n",
       "      <td>19.250000</td>\n",
       "      <td>0.0</td>\n",
       "      <td>0.0</td>\n",
       "      <td>1.0</td>\n",
       "      <td>1.0</td>\n",
       "      <td>0.0</td>\n",
       "      <td>0.0</td>\n",
       "      <td>0.0</td>\n",
       "    </tr>\n",
       "  </tbody>\n",
       "</table>\n",
       "<p>29374 rows × 15 columns</p>\n",
       "</div>"
      ],
      "text/plain": [
       "      CustomerType  CreditDays  AverageOrderSize  LengthOfRelationship   \n",
       "0               TC          30          35647.47                 730.0  \\\n",
       "1               TC          30          16300.90                 710.0   \n",
       "2               TC          30          40285.64                 722.0   \n",
       "3               TC          30          25648.04                 703.0   \n",
       "4               TC          30          13555.68                 705.0   \n",
       "...            ...         ...               ...                   ...   \n",
       "29369           TC          30           5572.18                 862.0   \n",
       "29370           TC           0            673.79                 862.0   \n",
       "29371           TC           0            687.72                 862.0   \n",
       "29372           TC           0           4970.38                 867.0   \n",
       "29373           TC           0           1439.04                 867.0   \n",
       "\n",
       "       InvoiceAmount  PaymentAmount PaymentMode  order_frequency  ct_CASH   \n",
       "0           1021.650       1021.650        CASH         7.375000      0.0  \\\n",
       "1           2923.550        500.000        CASH         7.000000      0.0   \n",
       "2           2211.090        150.000        CASH         3.758621      0.0   \n",
       "3             69.410         69.410        CASH         4.388889      0.0   \n",
       "4           2555.440       2555.440         POS         5.923077      0.0   \n",
       "...              ...            ...         ...              ...      ...   \n",
       "29369          8.875          8.875        CASH         5.740741      0.0   \n",
       "29370          9.850          9.850        CASH        19.500000      0.0   \n",
       "29371         25.900          8.150        CASH         7.875000      0.0   \n",
       "29372       1416.250       1416.250        CASH        12.800000      0.0   \n",
       "29373         63.000         63.000        CASH        19.250000      0.0   \n",
       "\n",
       "       Credit   TC  pm_CASH  CHEQUE  ONLINE  POS  \n",
       "0         0.0  1.0      1.0     0.0     0.0  0.0  \n",
       "1         0.0  1.0      1.0     0.0     0.0  0.0  \n",
       "2         0.0  1.0      1.0     0.0     0.0  0.0  \n",
       "3         0.0  1.0      1.0     0.0     0.0  0.0  \n",
       "4         0.0  1.0      0.0     0.0     0.0  1.0  \n",
       "...       ...  ...      ...     ...     ...  ...  \n",
       "29369     0.0  1.0      1.0     0.0     0.0  0.0  \n",
       "29370     0.0  1.0      1.0     0.0     0.0  0.0  \n",
       "29371     0.0  1.0      1.0     0.0     0.0  0.0  \n",
       "29372     0.0  1.0      1.0     0.0     0.0  0.0  \n",
       "29373     0.0  1.0      1.0     0.0     0.0  0.0  \n",
       "\n",
       "[29374 rows x 15 columns]"
      ]
     },
     "execution_count": 41,
     "metadata": {},
     "output_type": "execute_result"
    }
   ],
   "source": [
    "test_features"
   ]
  },
  {
   "cell_type": "code",
   "execution_count": 42,
   "id": "ad164cd8",
   "metadata": {},
   "outputs": [],
   "source": [
    "test_features.drop(obj_columns,axis=1,inplace=True)"
   ]
  },
  {
   "cell_type": "code",
   "execution_count": 43,
   "id": "3f327e66",
   "metadata": {},
   "outputs": [],
   "source": [
    "test_features = pd.DataFrame(std.transform(test_features))"
   ]
  },
  {
   "cell_type": "markdown",
   "id": "92fce1b1",
   "metadata": {},
   "source": [
    "### Training the model"
   ]
  },
  {
   "cell_type": "code",
   "execution_count": 44,
   "id": "b52e13dd",
   "metadata": {
    "scrolled": true
   },
   "outputs": [
    {
     "name": "stderr",
     "output_type": "stream",
     "text": [
      "C:\\Users\\Dharmendra\\AppData\\Local\\Programs\\Python\\Python310\\lib\\site-packages\\sklearn\\pipeline.py:405: DataConversionWarning: A column-vector y was passed when a 1d array was expected. Please change the shape of y to (n_samples,), for example using ravel().\n",
      "  self._final_estimator.fit(Xt, y, **fit_params_last_step)\n"
     ]
    },
    {
     "data": {
      "text/html": [
       "<style>#sk-container-id-1 {color: black;background-color: white;}#sk-container-id-1 pre{padding: 0;}#sk-container-id-1 div.sk-toggleable {background-color: white;}#sk-container-id-1 label.sk-toggleable__label {cursor: pointer;display: block;width: 100%;margin-bottom: 0;padding: 0.3em;box-sizing: border-box;text-align: center;}#sk-container-id-1 label.sk-toggleable__label-arrow:before {content: \"▸\";float: left;margin-right: 0.25em;color: #696969;}#sk-container-id-1 label.sk-toggleable__label-arrow:hover:before {color: black;}#sk-container-id-1 div.sk-estimator:hover label.sk-toggleable__label-arrow:before {color: black;}#sk-container-id-1 div.sk-toggleable__content {max-height: 0;max-width: 0;overflow: hidden;text-align: left;background-color: #f0f8ff;}#sk-container-id-1 div.sk-toggleable__content pre {margin: 0.2em;color: black;border-radius: 0.25em;background-color: #f0f8ff;}#sk-container-id-1 input.sk-toggleable__control:checked~div.sk-toggleable__content {max-height: 200px;max-width: 100%;overflow: auto;}#sk-container-id-1 input.sk-toggleable__control:checked~label.sk-toggleable__label-arrow:before {content: \"▾\";}#sk-container-id-1 div.sk-estimator input.sk-toggleable__control:checked~label.sk-toggleable__label {background-color: #d4ebff;}#sk-container-id-1 div.sk-label input.sk-toggleable__control:checked~label.sk-toggleable__label {background-color: #d4ebff;}#sk-container-id-1 input.sk-hidden--visually {border: 0;clip: rect(1px 1px 1px 1px);clip: rect(1px, 1px, 1px, 1px);height: 1px;margin: -1px;overflow: hidden;padding: 0;position: absolute;width: 1px;}#sk-container-id-1 div.sk-estimator {font-family: monospace;background-color: #f0f8ff;border: 1px dotted black;border-radius: 0.25em;box-sizing: border-box;margin-bottom: 0.5em;}#sk-container-id-1 div.sk-estimator:hover {background-color: #d4ebff;}#sk-container-id-1 div.sk-parallel-item::after {content: \"\";width: 100%;border-bottom: 1px solid gray;flex-grow: 1;}#sk-container-id-1 div.sk-label:hover label.sk-toggleable__label {background-color: #d4ebff;}#sk-container-id-1 div.sk-serial::before {content: \"\";position: absolute;border-left: 1px solid gray;box-sizing: border-box;top: 0;bottom: 0;left: 50%;z-index: 0;}#sk-container-id-1 div.sk-serial {display: flex;flex-direction: column;align-items: center;background-color: white;padding-right: 0.2em;padding-left: 0.2em;position: relative;}#sk-container-id-1 div.sk-item {position: relative;z-index: 1;}#sk-container-id-1 div.sk-parallel {display: flex;align-items: stretch;justify-content: center;background-color: white;position: relative;}#sk-container-id-1 div.sk-item::before, #sk-container-id-1 div.sk-parallel-item::before {content: \"\";position: absolute;border-left: 1px solid gray;box-sizing: border-box;top: 0;bottom: 0;left: 50%;z-index: -1;}#sk-container-id-1 div.sk-parallel-item {display: flex;flex-direction: column;z-index: 1;position: relative;background-color: white;}#sk-container-id-1 div.sk-parallel-item:first-child::after {align-self: flex-end;width: 50%;}#sk-container-id-1 div.sk-parallel-item:last-child::after {align-self: flex-start;width: 50%;}#sk-container-id-1 div.sk-parallel-item:only-child::after {width: 0;}#sk-container-id-1 div.sk-dashed-wrapped {border: 1px dashed gray;margin: 0 0.4em 0.5em 0.4em;box-sizing: border-box;padding-bottom: 0.4em;background-color: white;}#sk-container-id-1 div.sk-label label {font-family: monospace;font-weight: bold;display: inline-block;line-height: 1.2em;}#sk-container-id-1 div.sk-label-container {text-align: center;}#sk-container-id-1 div.sk-container {/* jupyter's `normalize.less` sets `[hidden] { display: none; }` but bootstrap.min.css set `[hidden] { display: none !important; }` so we also need the `!important` here to be able to override the default hidden behavior on the sphinx rendered scikit-learn.org. See: https://github.com/scikit-learn/scikit-learn/issues/21755 */display: inline-block !important;position: relative;}#sk-container-id-1 div.sk-text-repr-fallback {display: none;}</style><div id=\"sk-container-id-1\" class=\"sk-top-container\"><div class=\"sk-text-repr-fallback\"><pre>Pipeline(steps=[(&#x27;regressor&#x27;, RandomForestRegressor(random_state=42))])</pre><b>In a Jupyter environment, please rerun this cell to show the HTML representation or trust the notebook. <br />On GitHub, the HTML representation is unable to render, please try loading this page with nbviewer.org.</b></div><div class=\"sk-container\" hidden><div class=\"sk-item sk-dashed-wrapped\"><div class=\"sk-label-container\"><div class=\"sk-label sk-toggleable\"><input class=\"sk-toggleable__control sk-hidden--visually\" id=\"sk-estimator-id-1\" type=\"checkbox\" ><label for=\"sk-estimator-id-1\" class=\"sk-toggleable__label sk-toggleable__label-arrow\">Pipeline</label><div class=\"sk-toggleable__content\"><pre>Pipeline(steps=[(&#x27;regressor&#x27;, RandomForestRegressor(random_state=42))])</pre></div></div></div><div class=\"sk-serial\"><div class=\"sk-item\"><div class=\"sk-estimator sk-toggleable\"><input class=\"sk-toggleable__control sk-hidden--visually\" id=\"sk-estimator-id-2\" type=\"checkbox\" ><label for=\"sk-estimator-id-2\" class=\"sk-toggleable__label sk-toggleable__label-arrow\">RandomForestRegressor</label><div class=\"sk-toggleable__content\"><pre>RandomForestRegressor(random_state=42)</pre></div></div></div></div></div></div></div>"
      ],
      "text/plain": [
       "Pipeline(steps=[('regressor', RandomForestRegressor(random_state=42))])"
      ]
     },
     "execution_count": 44,
     "metadata": {},
     "output_type": "execute_result"
    }
   ],
   "source": [
    "pipeline.fit(train_features, train_target)"
   ]
  },
  {
   "cell_type": "markdown",
   "id": "af71ab29",
   "metadata": {},
   "source": [
    "### Predicting the test data (Evaluating)"
   ]
  },
  {
   "cell_type": "code",
   "execution_count": 45,
   "id": "cb64c6d4",
   "metadata": {},
   "outputs": [],
   "source": [
    "predicted_credit_scores = pipeline.predict(test_features)"
   ]
  },
  {
   "cell_type": "code",
   "execution_count": 46,
   "id": "6bde9fcd",
   "metadata": {},
   "outputs": [],
   "source": [
    "suggested_credit_limits = pd.Series(predicted_credit_scores, index=test_features.index)"
   ]
  },
  {
   "cell_type": "code",
   "execution_count": 54,
   "id": "4425a8bc",
   "metadata": {},
   "outputs": [],
   "source": [
    "suggested_credit_limits_changed = suggested_credit_limits.apply(lambda x: x*1.1 if x < 8000 else x)"
   ]
  },
  {
   "cell_type": "code",
   "execution_count": 55,
   "id": "2a5733b8",
   "metadata": {},
   "outputs": [
    {
     "data": {
      "text/plain": [
       "0        9668.000\n",
       "1        3235.375\n",
       "2        3235.375\n",
       "3        5226.265\n",
       "4        4633.805\n",
       "           ...   \n",
       "29369    4766.630\n",
       "29370    4326.300\n",
       "29371    3967.700\n",
       "29372    6820.000\n",
       "29373    7062.000\n",
       "Length: 29374, dtype: float64"
      ]
     },
     "execution_count": 55,
     "metadata": {},
     "output_type": "execute_result"
    }
   ],
   "source": [
    "suggested_credit_limits_changed"
   ]
  },
  {
   "cell_type": "code",
   "execution_count": 56,
   "id": "01c1ed2d",
   "metadata": {},
   "outputs": [],
   "source": [
    "data1 = data"
   ]
  },
  {
   "cell_type": "code",
   "execution_count": 57,
   "id": "06b923e5",
   "metadata": {},
   "outputs": [],
   "source": [
    "data1[['SuggestedCreditLimit']]=0"
   ]
  },
  {
   "cell_type": "markdown",
   "id": "3f2a63eb",
   "metadata": {},
   "source": [
    "adding the SuggestedCreditLimit to dataframe with dummy value 0"
   ]
  },
  {
   "cell_type": "code",
   "execution_count": 63,
   "id": "130f5516",
   "metadata": {
    "scrolled": true
   },
   "outputs": [],
   "source": [
    "data1.loc[test_features_index, 'SuggestedCreditLimit'] = suggested_credit_limits_changed.values"
   ]
  },
  {
   "cell_type": "markdown",
   "id": "6ff24d94",
   "metadata": {},
   "source": [
    "### Dataframe to CSV "
   ]
  },
  {
   "cell_type": "code",
   "execution_count": 69,
   "id": "b1896be7",
   "metadata": {},
   "outputs": [],
   "source": [
    "data1.to_csv(r'C:\\Users\\Dharmendra\\Downloads\\vamsidhar_output.csv',index=False)"
   ]
  },
  {
   "cell_type": "code",
   "execution_count": null,
   "id": "2cfc0a33",
   "metadata": {},
   "outputs": [],
   "source": []
  }
 ],
 "metadata": {
  "kernelspec": {
   "display_name": "Python 3 (ipykernel)",
   "language": "python",
   "name": "python3"
  },
  "language_info": {
   "codemirror_mode": {
    "name": "ipython",
    "version": 3
   },
   "file_extension": ".py",
   "mimetype": "text/x-python",
   "name": "python",
   "nbconvert_exporter": "python",
   "pygments_lexer": "ipython3",
   "version": "3.9.12"
  }
 },
 "nbformat": 4,
 "nbformat_minor": 5
}
