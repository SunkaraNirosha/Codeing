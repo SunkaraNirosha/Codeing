{
 "cells": [
  {
   "cell_type": "markdown",
   "id": "2657126c",
   "metadata": {},
   "source": [
    "### Detect Floating Point Number"
   ]
  },
  {
   "cell_type": "code",
   "execution_count": 3,
   "id": "0717dc7d",
   "metadata": {},
   "outputs": [
    {
     "name": "stdout",
     "output_type": "stream",
     "text": [
      "4\n",
      "prasa\n",
      "False\n",
      "-6.4\n",
      "True\n",
      "8.3\n",
      "True\n",
      "67\n",
      "False\n"
     ]
    },
    {
     "data": {
      "text/plain": [
       "<__main__.Main at 0x1ff7c6ef3a0>"
      ]
     },
     "execution_count": 3,
     "metadata": {},
     "output_type": "execute_result"
    }
   ],
   "source": [
    "import re\n",
    "\n",
    "class Main():\n",
    "    def __init__(self):\n",
    "        self.n = int(input())\n",
    "        \n",
    "        for i in range(self.n):\n",
    "            self.s = input()\n",
    "            print(bool(re.match(r'^[-+]?[0-9]*\\.[0-9]+$', self.s)))\n",
    "Main()"
   ]
  },
  {
   "cell_type": "markdown",
   "id": "19b52d7c",
   "metadata": {},
   "source": [
    "### Group(),Groups(),Groupdict() "
   ]
  },
  {
   "cell_type": "code",
   "execution_count": 12,
   "id": "c7cddc48",
   "metadata": {},
   "outputs": [
    {
     "name": "stdout",
     "output_type": "stream",
     "text": [
      "9087-679\n",
      "-1\n"
     ]
    }
   ],
   "source": [
    "import re\n",
    "m = re.search(r'([a-zA-Z0-9])\\1+', input().strip())\n",
    "print(m.group(1) if m else -1)"
   ]
  },
  {
   "cell_type": "markdown",
   "id": "d133106f",
   "metadata": {},
   "source": [
    "### Re.findall,Re.finditer() "
   ]
  },
  {
   "cell_type": "code",
   "execution_count": 18,
   "id": "4b92afd3",
   "metadata": {},
   "outputs": [
    {
     "name": "stdout",
     "output_type": "stream",
     "text": [
      "PdsytrfjvgbuhI\n",
      "-1\n"
     ]
    }
   ],
   "source": [
    "import re\n",
    "\n",
    "m = re.findall(r'(?<=[qwrtypsdfghjklzxcvbnm])([aeiou]{2,})(?=[qwrtypsdfghjklzxcvbnm])',input().strip(), re.IGNORECASE)\n",
    "\n",
    "if m:\n",
    "    for s in m:\n",
    "        print(s)\n",
    "else:\n",
    "    print(-1)"
   ]
  },
  {
   "cell_type": "markdown",
   "id": "e5c017b7",
   "metadata": {},
   "source": [
    "### Re.start(),Re.end()"
   ]
  },
  {
   "cell_type": "code",
   "execution_count": 20,
   "id": "189c775d",
   "metadata": {},
   "outputs": [
    {
     "name": "stdout",
     "output_type": "stream",
     "text": [
      "aaaabbewewef\n",
      "bbe\n",
      "(4, 6)\n"
     ]
    }
   ],
   "source": [
    "import re\n",
    "\n",
    "string = input()\n",
    "substring = input()\n",
    "\n",
    "pattern = re.compile(substring)\n",
    "match = pattern.search(string)\n",
    "if not match: print('(-1, -1)')\n",
    "while match:\n",
    "    print('({0}, {1})'.format(match.start(), match.end() - 1))\n",
    "    match = pattern.search(string, match.start() + 1)"
   ]
  },
  {
   "cell_type": "code",
   "execution_count": null,
   "id": "39eb8aa4",
   "metadata": {},
   "outputs": [],
   "source": []
  }
 ],
 "metadata": {
  "kernelspec": {
   "display_name": "Python 3 (ipykernel)",
   "language": "python",
   "name": "python3"
  },
  "language_info": {
   "codemirror_mode": {
    "name": "ipython",
    "version": 3
   },
   "file_extension": ".py",
   "mimetype": "text/x-python",
   "name": "python",
   "nbconvert_exporter": "python",
   "pygments_lexer": "ipython3",
   "version": "3.9.13"
  }
 },
 "nbformat": 4,
 "nbformat_minor": 5
}
