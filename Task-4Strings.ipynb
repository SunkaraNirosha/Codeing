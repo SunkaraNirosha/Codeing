{
 "cells": [
  {
   "cell_type": "markdown",
   "id": "204bd47d",
   "metadata": {},
   "source": [
    "### Swap cases "
   ]
  },
  {
   "cell_type": "code",
   "execution_count": 9,
   "id": "71c9b27e",
   "metadata": {},
   "outputs": [
    {
     "name": "stdout",
     "output_type": "stream",
     "text": [
      "prasannnalakshmi.aishu\n",
      "PRASANNNALAKSHMI.AISHU\n"
     ]
    }
   ],
   "source": [
    "def swap_case(s):\n",
    "    return s.swapcase()\n",
    "\n",
    "    s = input()\n",
    "    result = swap_case(s)\n",
    "    print(result)"
   ]
  },
  {
   "cell_type": "markdown",
   "id": "bce0985c",
   "metadata": {},
   "source": [
    "### String split join"
   ]
  },
  {
   "cell_type": "code",
   "execution_count": 10,
   "id": "f3587862",
   "metadata": {},
   "outputs": [
    {
     "name": "stdout",
     "output_type": "stream",
     "text": [
      "hacker rank\n",
      "hacker-rank\n"
     ]
    }
   ],
   "source": [
    "def split_and_join(line):\n",
    "    a=line.split(' ')\n",
    "    a=\"-\".join(a)\n",
    "    return a\n",
    "    line = input()\n",
    "    result = split_and_join(line)\n",
    "    print(result)"
   ]
  },
  {
   "cell_type": "markdown",
   "id": "ab6da7cb",
   "metadata": {},
   "source": [
    "### Whats your name"
   ]
  },
  {
   "cell_type": "code",
   "execution_count": 29,
   "id": "f97d558c",
   "metadata": {},
   "outputs": [],
   "source": [
    "def print_full_name(first, last):\n",
    "    print(f\"Hello {first} {last}! You just delved into python.\")\n",
    "    "
   ]
  },
  {
   "cell_type": "code",
   "execution_count": 30,
   "id": "7b21d97c",
   "metadata": {},
   "outputs": [
    {
     "name": "stdout",
     "output_type": "stream",
     "text": [
      "Hello prasanna saili! You just delved into python.\n"
     ]
    }
   ],
   "source": [
    "print_full_name('prasanna', 'saili')"
   ]
  },
  {
   "cell_type": "markdown",
   "id": "dde4cf30",
   "metadata": {},
   "source": [
    "### Mutations"
   ]
  },
  {
   "cell_type": "code",
   "execution_count": 20,
   "id": "4f6ecd48",
   "metadata": {},
   "outputs": [
    {
     "name": "stdout",
     "output_type": "stream",
     "text": [
      "'abcdefgh'\n",
      "4 y\n",
      "'abcyefgh'\n"
     ]
    }
   ],
   "source": [
    "def mutate_string(string, position, character):\n",
    "    return string[:position] + character + string[position+1:]  \n",
    "\n",
    "if __name__ == '__main__':\n",
    "    s = input()\n",
    "    i, c = input().split()\n",
    "    s_new = mutate_string(s, int(i), c)\n",
    "    print(s_new)"
   ]
  },
  {
   "cell_type": "markdown",
   "id": "e6fc5947",
   "metadata": {},
   "source": [
    "### Textwrap"
   ]
  },
  {
   "cell_type": "code",
   "execution_count": 32,
   "id": "5c25524f",
   "metadata": {},
   "outputs": [
    {
     "name": "stdout",
     "output_type": "stream",
     "text": [
      "asdfghjklmnbvcxxxdrth\n",
      "5\n",
      "asdfg\n",
      "hjklm\n",
      "nbvcx\n",
      "xxdrt\n",
      "h\n"
     ]
    }
   ],
   "source": [
    "import textwrap\n",
    "def wrap(string, max_width):\n",
    "    return textwrap.fill(string,max_width)\n",
    "if __name__ == '__main__':\n",
    "    string, max_width = input(), int(input())\n",
    "    result = wrap(string, max_width)\n",
    "    print(result)"
   ]
  },
  {
   "cell_type": "markdown",
   "id": "98becab7",
   "metadata": {},
   "source": [
    "### Designer Door Mat "
   ]
  },
  {
   "cell_type": "code",
   "execution_count": 33,
   "id": "948949e9",
   "metadata": {},
   "outputs": [
    {
     "name": "stdout",
     "output_type": "stream",
     "text": [
      "9 27\n",
      "------------.|.------------\n",
      "---------.|..|..|.---------\n",
      "------.|..|..|..|..|.------\n",
      "---.|..|..|..|..|..|..|.---\n",
      "----------WELCOME----------\n",
      "---.|..|..|..|..|..|..|.---\n",
      "------.|..|..|..|..|.------\n",
      "---------.|..|..|.---------\n",
      "------------.|.------------\n"
     ]
    }
   ],
   "source": [
    "N, M = map(lambda x: int(x),input().split())\n",
    "\n",
    "design_num = 0\n",
    "for x in range(N + 1):\n",
    "    if x < (N // 2):\n",
    "        print(('.|' + ('..|'* design_num) + '.').center(M, '-'))\n",
    "        design_num += 2\n",
    "    \n",
    "    if x == (N//2 + 1):\n",
    "        print(('WELCOME').center(M, '-'))\n",
    "        \n",
    "    if x > (N//2 + 1):\n",
    "        design_num -= 2\n",
    "        print(('.|' + ('..|'* design_num) + '.').center(M, '-'))"
   ]
  },
  {
   "cell_type": "markdown",
   "id": "0c22e4c8",
   "metadata": {},
   "source": [
    "### String validators"
   ]
  },
  {
   "cell_type": "code",
   "execution_count": 43,
   "id": "189fef44",
   "metadata": {},
   "outputs": [
    {
     "name": "stdout",
     "output_type": "stream",
     "text": [
      "ghfth45\n",
      "True\n",
      "True\n",
      "True\n",
      "True\n",
      "False\n"
     ]
    }
   ],
   "source": [
    "s = input()\n",
    "print(any(c.isalnum() for c in s))\n",
    "print(any(c.isalpha() for c in s))\n",
    "print(any(c.isdigit() for c in s))\n",
    "print(any(c.islower() for c in s))\n",
    "print(any(c.isupper() for c in s))"
   ]
  },
  {
   "cell_type": "markdown",
   "id": "be4902b8",
   "metadata": {},
   "source": [
    "### Find a string\n"
   ]
  },
  {
   "cell_type": "code",
   "execution_count": 38,
   "id": "086882dd",
   "metadata": {},
   "outputs": [
    {
     "name": "stdout",
     "output_type": "stream",
     "text": [
      "abbcdrefgiybb\n",
      "bb\n",
      "2\n"
     ]
    }
   ],
   "source": [
    "def count_substring(string, sub_string):\n",
    "    count = 0\n",
    "\n",
    "    i = string.find(sub_string)\n",
    "\n",
    "    while i != -1:\n",
    "        count += 1\n",
    "        i = string.find(sub_string, i+1)\n",
    "    return count\n",
    "    \n",
    "\n",
    "if __name__ == '__main__':\n",
    "    string = input().strip()\n",
    "    sub_string = input().strip()\n",
    "    \n",
    "    count = count_substring(string, sub_string)\n",
    "    print(count)"
   ]
  },
  {
   "cell_type": "markdown",
   "id": "f847d9b3",
   "metadata": {},
   "source": [
    "### String Formating"
   ]
  },
  {
   "cell_type": "code",
   "execution_count": 41,
   "id": "c9949103",
   "metadata": {},
   "outputs": [],
   "source": [
    "def print_formatted(number):\n",
    "    '''Prints number in decinmal, ocal, hexadecimal, and binary'''\n",
    "    for i in range(1, number + 1):\n",
    "        width = len(f\"{number:b}\")\n",
    "        print(f\"{i:{width}} {i:{width}o} {i:{width}X} {i:{width}b}\")"
   ]
  },
  {
   "cell_type": "code",
   "execution_count": 42,
   "id": "6b3e03ac",
   "metadata": {},
   "outputs": [
    {
     "name": "stdout",
     "output_type": "stream",
     "text": [
      "    1     1     1     1\n",
      "    2     2     2    10\n",
      "    3     3     3    11\n",
      "    4     4     4   100\n",
      "    5     5     5   101\n",
      "    6     6     6   110\n",
      "    7     7     7   111\n",
      "    8    10     8  1000\n",
      "    9    11     9  1001\n",
      "   10    12     A  1010\n",
      "   11    13     B  1011\n",
      "   12    14     C  1100\n",
      "   13    15     D  1101\n",
      "   14    16     E  1110\n",
      "   15    17     F  1111\n",
      "   16    20    10 10000\n",
      "   17    21    11 10001\n"
     ]
    }
   ],
   "source": [
    "print_formatted(17)"
   ]
  },
  {
   "cell_type": "markdown",
   "id": "261d62e8",
   "metadata": {},
   "source": [
    "### Capitalize"
   ]
  },
  {
   "cell_type": "code",
   "execution_count": 44,
   "id": "d7073023",
   "metadata": {},
   "outputs": [],
   "source": [
    "def solve(s):\n",
    "    for i in s.split():\n",
    "        s = s.replace(i,i.capitalize())\n",
    "    return s"
   ]
  },
  {
   "cell_type": "code",
   "execution_count": 46,
   "id": "c6513126",
   "metadata": {},
   "outputs": [
    {
     "data": {
      "text/plain": [
       "'Prasannalakshmi Saili'"
      ]
     },
     "execution_count": 46,
     "metadata": {},
     "output_type": "execute_result"
    }
   ],
   "source": [
    "solve('prasannalakshmi saili')"
   ]
  },
  {
   "cell_type": "markdown",
   "id": "6d861bc6",
   "metadata": {},
   "source": [
    "### Merge the tools"
   ]
  },
  {
   "cell_type": "code",
   "execution_count": 47,
   "id": "97c6808e",
   "metadata": {},
   "outputs": [],
   "source": [
    "from collections import OrderedDict\n",
    "\n",
    "def merge_the_tools(string, k):\n",
    "    for i in range(0, len(string), k):\n",
    "        print(''.join(OrderedDict.fromkeys(string[i:i + k])))"
   ]
  },
  {
   "cell_type": "code",
   "execution_count": 58,
   "id": "07e83920",
   "metadata": {},
   "outputs": [
    {
     "name": "stdout",
     "output_type": "stream",
     "text": [
      "ac\n",
      "f\n",
      "ab\n",
      "ub\n",
      "c\n",
      "di\n"
     ]
    }
   ],
   "source": [
    "merge_the_tools('acffabubccdi', 2)"
   ]
  },
  {
   "cell_type": "markdown",
   "id": "caef3980",
   "metadata": {},
   "source": [
    "### The Minion Game "
   ]
  },
  {
   "cell_type": "code",
   "execution_count": 59,
   "id": "38e6ffe0",
   "metadata": {},
   "outputs": [],
   "source": [
    "def minion_game(string):\n",
    "    vowels = 'AEIOU'\n",
    "    str_lenght = len(string)\n",
    "    kevin_score, stuart_score = 0, 0\n",
    "\n",
    "    for i in range(str_lenght):\n",
    "        if s[i] in vowels:\n",
    "            kevin_score += (str_lenght - i)\n",
    "        else:\n",
    "            stuart_score += (str_lenght - i)\n",
    "\n",
    "    if kevin_score > stuart_score:\n",
    "        print(\"Kevin\", kevin_score)\n",
    "    elif kevin_score < stuart_score:\n",
    "        print(\"Stuart\", stuart_score)\n",
    "    else:\n",
    "        print(\"Draw\")"
   ]
  },
  {
   "cell_type": "code",
   "execution_count": 60,
   "id": "12790fd1",
   "metadata": {},
   "outputs": [
    {
     "name": "stdout",
     "output_type": "stream",
     "text": [
      "Stuart 15\n"
     ]
    }
   ],
   "source": [
    "minion_game('APPLE')"
   ]
  },
  {
   "cell_type": "markdown",
   "id": "6ee1d41f",
   "metadata": {},
   "source": [
    "### Alphabet Rangoli "
   ]
  },
  {
   "cell_type": "code",
   "execution_count": 3,
   "id": "1192a9ca",
   "metadata": {},
   "outputs": [],
   "source": [
    "def print_rangoli(size):\n",
    "    \n",
    "    alpha = \"abcdefghijklmnopqrstuvwxyz\"\n",
    "    data = [alpha[i] for i in range(size)]\n",
    "    items = list(range(size))\n",
    "    items = items[:-1]+items[::-1]\n",
    "    for i in items:\n",
    "        temp = data[-(i+1):]\n",
    "        row = temp[::-1]+temp[1:]\n",
    "        print(\"-\".join(row).center(size*4-3, \"-\"))\n"
   ]
  },
  {
   "cell_type": "code",
   "execution_count": 4,
   "id": "f6634df3",
   "metadata": {},
   "outputs": [
    {
     "name": "stdout",
     "output_type": "stream",
     "text": [
      "--------e--------\n",
      "------e-d-e------\n",
      "----e-d-c-d-e----\n",
      "--e-d-c-b-c-d-e--\n",
      "e-d-c-b-a-b-c-d-e\n",
      "--e-d-c-b-c-d-e--\n",
      "----e-d-c-d-e----\n",
      "------e-d-e------\n",
      "--------e--------\n"
     ]
    }
   ],
   "source": [
    "print_rangoli(5)"
   ]
  },
  {
   "cell_type": "markdown",
   "id": "6bddfcfe",
   "metadata": {},
   "source": [
    "### Text Alignment"
   ]
  },
  {
   "cell_type": "code",
   "execution_count": 25,
   "id": "4c882d35",
   "metadata": {},
   "outputs": [
    {
     "name": "stdout",
     "output_type": "stream",
     "text": [
      "5\n",
      "    H    \n",
      "   HHH   \n",
      "  HHHHH  \n",
      " HHHHHHH \n",
      "HHHHHHHHH\n",
      "  HHHHH               HHHHH             \n",
      "  HHHHH               HHHHH             \n",
      "  HHHHH               HHHHH             \n",
      "  HHHHH               HHHHH             \n",
      "  HHHHH               HHHHH             \n",
      "  HHHHH               HHHHH             \n",
      "  HHHHHHHHHHHHHHHHHHHHHHHHH   \n",
      "  HHHHHHHHHHHHHHHHHHHHHHHHH   \n",
      "  HHHHHHHHHHHHHHHHHHHHHHHHH   \n",
      "  HHHHH               HHHHH             \n",
      "  HHHHH               HHHHH             \n",
      "  HHHHH               HHHHH             \n",
      "  HHHHH               HHHHH             \n",
      "  HHHHH               HHHHH             \n",
      "  HHHHH               HHHHH             \n",
      "                    HHHHHHHHH \n",
      "                     HHHHHHH  \n",
      "                      HHHHH   \n",
      "                       HHH    \n",
      "                        H     \n"
     ]
    }
   ],
   "source": [
    "def main():\n",
    "    # Replace all ______ with rjust, ljust or center. \n",
    "\n",
    "    thickness = int(input())  # This must be an odd number\n",
    "    c = 'H'\n",
    "    \n",
    "    # Top Cone\n",
    "    for i in range(thickness):\n",
    "        print((c * i).rjust(thickness - 1) + c + (c * i).ljust(thickness - 1))\n",
    "    \n",
    "    # Top Pillars\n",
    "    for i in range(thickness + 1):\n",
    "        print((c * thickness).center(thickness * 2) + (c * thickness).center(thickness * 6))\n",
    "    \n",
    "    # Middle Belt\n",
    "    for i in range((thickness + 1) // 2):\n",
    "        print((c * thickness * 5).center(thickness * 6))    \n",
    "    \n",
    "    # Bottom Pillars\n",
    "    for i in range(thickness + 1):\n",
    "        print((c * thickness).center(thickness * 2) + (c * thickness).center(thickness * 6))    \n",
    "    \n",
    "    # Bottom Cone\n",
    "    for i in range(thickness):\n",
    "        print(((c * (thickness - i - 1)).rjust(thickness) + c + (c * (thickness - i - 1)).ljust(thickness)).rjust(thickness * 6))  \n",
    "\n",
    "if __name__ == '__main__':\n",
    "    main()\n",
    "\n"
   ]
  },
  {
   "cell_type": "code",
   "execution_count": null,
   "id": "cf6b91e2",
   "metadata": {},
   "outputs": [],
   "source": []
  }
 ],
 "metadata": {
  "kernelspec": {
   "display_name": "Python 3 (ipykernel)",
   "language": "python",
   "name": "python3"
  },
  "language_info": {
   "codemirror_mode": {
    "name": "ipython",
    "version": 3
   },
   "file_extension": ".py",
   "mimetype": "text/x-python",
   "name": "python",
   "nbconvert_exporter": "python",
   "pygments_lexer": "ipython3",
   "version": "3.9.13"
  }
 },
 "nbformat": 4,
 "nbformat_minor": 5
}
