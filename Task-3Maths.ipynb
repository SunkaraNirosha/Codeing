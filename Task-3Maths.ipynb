{
 "cells": [
  {
   "cell_type": "markdown",
   "id": "66fc029b",
   "metadata": {},
   "source": [
    "### Polar Coordinates"
   ]
  },
  {
   "cell_type": "code",
   "execution_count": 16,
   "id": "e7b08a3a",
   "metadata": {},
   "outputs": [
    {
     "name": "stdout",
     "output_type": "stream",
     "text": [
      "1+2j\n",
      "2.23606797749979\n",
      "1.1071487177940904\n"
     ]
    }
   ],
   "source": [
    "from math import atan2\n",
    "z=complex(input())\n",
    "x,y = z.real, z.imag\n",
    "r = (x**2+y**2)**.5\n",
    "phi = atan2(y,x)\n",
    "print(r)\n",
    "print(phi)"
   ]
  },
  {
   "cell_type": "markdown",
   "id": "a0ca67d7",
   "metadata": {},
   "source": [
    "### Fine Angle MBC"
   ]
  },
  {
   "cell_type": "code",
   "execution_count": 20,
   "id": "7d09bf75",
   "metadata": {},
   "outputs": [
    {
     "name": "stdout",
     "output_type": "stream",
     "text": [
      "10\n",
      "9\n",
      "48°\n"
     ]
    }
   ],
   "source": [
    "import math\n",
    "ab=int(input())\n",
    "bc=int(input())\n",
    "ca=math.hypot(ab,bc)\n",
    "mc=ca/2\n",
    "bca=math.asin(1*ab/ca)\n",
    "bm=math.sqrt((bc**2+mc**2)-(2*bc*mc*math.cos(bca)))\n",
    "mbc=math.asin(math.sin(bca)*mc/bm)\n",
    "print(int(round(math.degrees(mbc),0)),'\\u00B0',sep='')"
   ]
  },
  {
   "cell_type": "markdown",
   "id": "b7107e44",
   "metadata": {},
   "source": [
    "### Triangle quest2"
   ]
  },
  {
   "cell_type": "code",
   "execution_count": 2,
   "id": "7dac7bb9",
   "metadata": {},
   "outputs": [
    {
     "name": "stdout",
     "output_type": "stream",
     "text": [
      "5\n",
      "1\n",
      "121\n",
      "12321\n",
      "1234321\n",
      "123454321\n"
     ]
    }
   ],
   "source": [
    "for i in range(1,int(input())+1):\n",
    "    print(((10**i)//9)**2)"
   ]
  },
  {
   "cell_type": "markdown",
   "id": "59e04258",
   "metadata": {},
   "source": [
    "###  Mod  Divmod"
   ]
  },
  {
   "cell_type": "code",
   "execution_count": 3,
   "id": "1b9752be",
   "metadata": {},
   "outputs": [
    {
     "name": "stdout",
     "output_type": "stream",
     "text": [
      "3\n",
      "9\n",
      "0\n",
      "3\n",
      "(0, 3)\n"
     ]
    }
   ],
   "source": [
    "a=int(input())\n",
    "b=int(input())\n",
    "print(a//b)\n",
    "print(a%b)\n",
    "print(divmod(a,b))"
   ]
  },
  {
   "cell_type": "markdown",
   "id": "d4b5424a",
   "metadata": {},
   "source": [
    "### Power-Mod Power "
   ]
  },
  {
   "cell_type": "code",
   "execution_count": 7,
   "id": "1e1b6c0c",
   "metadata": {},
   "outputs": [
    {
     "name": "stdout",
     "output_type": "stream",
     "text": [
      "4\n",
      "3\n",
      "2\n",
      "64 0\n"
     ]
    }
   ],
   "source": [
    "import math\n",
    "a,b,c=[int(input()) for i in range(3)]\n",
    "print(pow(a,b),pow(a,b,c))"
   ]
  },
  {
   "cell_type": "markdown",
   "id": "bd215c24",
   "metadata": {},
   "source": [
    "### Integers Come In All Sizes"
   ]
  },
  {
   "cell_type": "code",
   "execution_count": 9,
   "id": "2265adf1",
   "metadata": {},
   "outputs": [
    {
     "name": "stdout",
     "output_type": "stream",
     "text": [
      "4\n",
      "5\n",
      "4\n",
      "3\n",
      "1088\n"
     ]
    }
   ],
   "source": [
    "a,b,c,d=[int(input()) for i in range(4)]\n",
    "print((a**b)+(c**d))"
   ]
  },
  {
   "cell_type": "markdown",
   "id": "5fb5a240",
   "metadata": {},
   "source": [
    "### Triangle Quest"
   ]
  },
  {
   "cell_type": "code",
   "execution_count": 22,
   "id": "d5401a83",
   "metadata": {},
   "outputs": [
    {
     "name": "stdout",
     "output_type": "stream",
     "text": [
      "5\n",
      "1\n",
      "22\n",
      "333\n",
      "4444\n"
     ]
    }
   ],
   "source": [
    "for i in range(1,int(input())): \n",
    "    print(((10**(i))//9)*i)"
   ]
  },
  {
   "cell_type": "code",
   "execution_count": 15,
   "id": "85b23fb6",
   "metadata": {},
   "outputs": [
    {
     "name": "stdout",
     "output_type": "stream",
     "text": [
      "6\n",
      "1 \n",
      "2 2 \n",
      "3 3 3 \n",
      "4 4 4 4 \n",
      "5 5 5 5 5 \n"
     ]
    }
   ],
   "source": [
    "for i in range(1,int(input())):\n",
    "    for j in range(1,i+1):\n",
    "        print(i,end=' ')\n",
    "    print(end='\\n')"
   ]
  },
  {
   "cell_type": "code",
   "execution_count": null,
   "id": "561acef6",
   "metadata": {},
   "outputs": [],
   "source": []
  }
 ],
 "metadata": {
  "kernelspec": {
   "display_name": "Python 3 (ipykernel)",
   "language": "python",
   "name": "python3"
  },
  "language_info": {
   "codemirror_mode": {
    "name": "ipython",
    "version": 3
   },
   "file_extension": ".py",
   "mimetype": "text/x-python",
   "name": "python",
   "nbconvert_exporter": "python",
   "pygments_lexer": "ipython3",
   "version": "3.9.13"
  }
 },
 "nbformat": 4,
 "nbformat_minor": 5
}
