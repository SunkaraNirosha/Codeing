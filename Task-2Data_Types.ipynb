{
 "cells": [
  {
   "cell_type": "markdown",
   "id": "cfbca146",
   "metadata": {},
   "source": [
    "### List Comprehensions"
   ]
  },
  {
   "cell_type": "code",
   "execution_count": 29,
   "id": "c5e13042",
   "metadata": {},
   "outputs": [
    {
     "name": "stdout",
     "output_type": "stream",
     "text": [
      "1\n",
      "1\n",
      "1\n",
      "2\n",
      "[[0, 0, 0], [0, 0, 1], [0, 1, 0], [1, 0, 0], [1, 1, 1]]\n"
     ]
    }
   ],
   "source": [
    "x = int(input())\n",
    "y = int(input())\n",
    "z = int(input())\n",
    "n = int(input())\n",
    "l=[]\n",
    "for i in range(x+1):\n",
    "    for j in range(y+1):\n",
    "        for k in range(z+1):\n",
    "            if i+j+k==n:\n",
    "                continue\n",
    "            l.append([i,j,k])\n",
    "print(l)"
   ]
  },
  {
   "cell_type": "markdown",
   "id": "c9343ff8",
   "metadata": {},
   "source": [
    "## Find the Runnerup Score"
   ]
  },
  {
   "cell_type": "code",
   "execution_count": 5,
   "id": "392b7977",
   "metadata": {},
   "outputs": [
    {
     "name": "stdout",
     "output_type": "stream",
     "text": [
      "4 3 3 2 5 55 34\n",
      "34\n"
     ]
    }
   ],
   "source": [
    "arr = map(int, input().split())\n",
    "ar=list(set(arr))\n",
    "ar.sort()\n",
    "print(ar[-2])\n",
    "# print(sorted(set(arr), reverse=True)[1])"
   ]
  },
  {
   "cell_type": "markdown",
   "id": "2ba73763",
   "metadata": {},
   "source": [
    "###  Nested List"
   ]
  },
  {
   "cell_type": "code",
   "execution_count": 30,
   "id": "65556ddb",
   "metadata": {},
   "outputs": [
    {
     "name": "stdout",
     "output_type": "stream",
     "text": [
      "4\n",
      "'prasanna'\n",
      "80\n",
      "'aishu'\n",
      "70\n",
      "'janu'\n",
      "85\n",
      "'meghu'\n",
      "67\n",
      "'aishu'\n"
     ]
    }
   ],
   "source": [
    "Result =[]\n",
    "scorelist = []\n",
    "for _ in range(int(input())):\n",
    "    name = input()\n",
    "    score = float(input())\n",
    "    Result+=[[name,score]]\n",
    "    scorelist+=[score]\n",
    "b=sorted(list(set(scorelist)))[1] \n",
    "for a,c in sorted(Result):\n",
    "    if c==b:\n",
    "        print(a)"
   ]
  },
  {
   "cell_type": "markdown",
   "id": "6fafe422",
   "metadata": {},
   "source": [
    "### Finding the percentage"
   ]
  },
  {
   "cell_type": "code",
   "execution_count": 26,
   "id": "3605551a",
   "metadata": {},
   "outputs": [
    {
     "name": "stdout",
     "output_type": "stream",
     "text": [
      "2\n",
      "'prassu' 7 5 8 9\n",
      "'janu' 8 5 4 0\n",
      "'janu'\n",
      "5.67\n"
     ]
    }
   ],
   "source": [
    "n = int(input())\n",
    "student_marks = {}\n",
    "for _ in range(n):\n",
    "    name, *line = input().split()\n",
    "    scores = list(map(float, line))\n",
    "    student_marks[name] = scores\n",
    "query_name = input()\n",
    "print('%.02f'%(sum(student_marks[query_name])/3))"
   ]
  },
  {
   "cell_type": "markdown",
   "id": "35a85294",
   "metadata": {},
   "source": [
    "### Tuples"
   ]
  },
  {
   "cell_type": "code",
   "execution_count": 17,
   "id": "7102abfe",
   "metadata": {},
   "outputs": [
    {
     "name": "stdout",
     "output_type": "stream",
     "text": [
      "3\n",
      "3 4 5\n",
      "4003026094496801395\n"
     ]
    }
   ],
   "source": [
    "n = int(input())\n",
    "integer_list = tuple(map(int, input().split(' ')))\n",
    "print(hash(integer_list))"
   ]
  },
  {
   "cell_type": "markdown",
   "id": "e2c9a6a1",
   "metadata": {},
   "source": [
    "### Introduction to sets "
   ]
  },
  {
   "cell_type": "code",
   "execution_count": 13,
   "id": "dda478f1",
   "metadata": {},
   "outputs": [
    {
     "name": "stdout",
     "output_type": "stream",
     "text": [
      "3 6\n",
      "3 4 2\n",
      "3 5\n",
      "2 4 \n",
      "-1\n"
     ]
    }
   ],
   "source": [
    "if __name__ == \"__main__\":\n",
    "    happiness = 0\n",
    "    n, m = map(int, input().strip().split(' '))\n",
    "    arr = list(map(int, input().strip().split(' ')))\n",
    "\n",
    "    good = set(map(int, input().strip().split(' ')))\n",
    "    bad = set(map(int, input().strip().split(' ')))\n",
    "\n",
    "    for i in arr:\n",
    "        if i in good:\n",
    "            happiness += 1\n",
    "        elif i in bad:\n",
    "            happiness -= 1\n",
    "    print(happiness)"
   ]
  },
  {
   "cell_type": "markdown",
   "id": "4265012a",
   "metadata": {},
   "source": [
    "### set.add()"
   ]
  },
  {
   "cell_type": "code",
   "execution_count": 23,
   "id": "5722362f",
   "metadata": {},
   "outputs": [
    {
     "name": "stdout",
     "output_type": "stream",
     "text": [
      "3\n",
      "prasanna\n",
      "aishu\n",
      "janu\n",
      "3\n"
     ]
    }
   ],
   "source": [
    "s=int(input())\n",
    "x=set(input() for i in range(s))\n",
    "print(len(x))"
   ]
  },
  {
   "cell_type": "markdown",
   "id": "92cf14cf",
   "metadata": {},
   "source": [
    "### symmetric difference "
   ]
  },
  {
   "cell_type": "code",
   "execution_count": 24,
   "id": "256422bc",
   "metadata": {},
   "outputs": [
    {
     "name": "stdout",
     "output_type": "stream",
     "text": [
      "3\n",
      "1 7 8\n",
      "4\n",
      "9 8 6 3\n",
      "1\n",
      "3\n",
      "6\n",
      "7\n",
      "9\n"
     ]
    }
   ],
   "source": [
    "m=int(input())\n",
    "a=set(map(int,input().split()))\n",
    "n=int(input())\n",
    "b=set(map(int,input().split()))\n",
    "c=a.difference(b)\n",
    "d=b.difference(a)\n",
    "e=c.union(d)\n",
    "result=list(e)\n",
    "result.sort()\n",
    "for i in range(len(result)):\n",
    "    print(result[i])"
   ]
  },
  {
   "cell_type": "markdown",
   "id": "2c1bd993",
   "metadata": {},
   "source": [
    "### set.union()"
   ]
  },
  {
   "cell_type": "code",
   "execution_count": 25,
   "id": "c00882dc",
   "metadata": {},
   "outputs": [
    {
     "name": "stdout",
     "output_type": "stream",
     "text": [
      "3 4 2 24\n",
      "6 5 4 98\n",
      "7\n"
     ]
    }
   ],
   "source": [
    "s1=set(input().split(\" \"))\n",
    "s2=set(input().split(\" \"))\n",
    "s3=s1.union(s2)\n",
    "print(len(s3))"
   ]
  },
  {
   "cell_type": "markdown",
   "id": "801fe67d",
   "metadata": {},
   "source": [
    "### set.intersection() "
   ]
  },
  {
   "cell_type": "code",
   "execution_count": 31,
   "id": "58b1e93e",
   "metadata": {},
   "outputs": [
    {
     "name": "stdout",
     "output_type": "stream",
     "text": [
      "5 4 3 3 9\n",
      "9 7 6 5 7 \n",
      "2\n"
     ]
    }
   ],
   "source": [
    "s1=set(input().split(\" \"))\n",
    "s2=set(input().split(\" \"))\n",
    "s3=s1.intersection(s2)\n",
    "print(len(s3))"
   ]
  },
  {
   "cell_type": "markdown",
   "id": "6f515e24",
   "metadata": {},
   "source": [
    "### set.difference()"
   ]
  },
  {
   "cell_type": "code",
   "execution_count": 33,
   "id": "352ac6be",
   "metadata": {},
   "outputs": [
    {
     "name": "stdout",
     "output_type": "stream",
     "text": [
      "4 7 90 6 \n",
      "7 6 4 6\n",
      "2\n"
     ]
    }
   ],
   "source": [
    "s=set(input().split(' '))\n",
    "p=set(input().split(' '))\n",
    "count=s.difference(p)\n",
    "print(len(count))"
   ]
  },
  {
   "cell_type": "markdown",
   "id": "86ad1f20",
   "metadata": {},
   "source": [
    "### set.symmetric_difference() operation"
   ]
  },
  {
   "cell_type": "code",
   "execution_count": 28,
   "id": "d4eb77d5",
   "metadata": {},
   "outputs": [
    {
     "name": "stdout",
     "output_type": "stream",
     "text": [
      "3 4 2 2 8 6\n",
      "5 4 6 4 9 2\n",
      "4\n"
     ]
    }
   ],
   "source": [
    "s=set(input().split(' '))\n",
    "p=set(input().split(' '))\n",
    "count=s.symmetric_difference(p)\n",
    "print(len(count))"
   ]
  },
  {
   "cell_type": "markdown",
   "id": "3cf79edc",
   "metadata": {},
   "source": [
    "### Set Mutations() "
   ]
  },
  {
   "cell_type": "code",
   "execution_count": 34,
   "id": "85870121",
   "metadata": {},
   "outputs": [
    {
     "name": "stdout",
     "output_type": "stream",
     "text": [
      "16\n",
      " 1 2 3 4 5 6 7 8 9 10 11 12 13 14 24 52\n",
      "4\n",
      "intersection_update 10\n",
      "2 3 5 6 8 9 1 4 7 11\n",
      "update 2\n",
      "55 66\n",
      " symmetric_difference_update 5\n",
      "22 7 35 62 58\n",
      "difference_update 7\n",
      " 11 22 35 55 58 62 66\n",
      "38\n"
     ]
    }
   ],
   "source": [
    "length=int(input())\n",
    "s=set(map(int, input().split()))\n",
    "N=int(input())\n",
    "\n",
    "for i in range(N):\n",
    "    (p, q)=input().split()\n",
    "    s2=set(map(int,input().split()))\n",
    "    if p=='intersection_update':\n",
    "        s.intersection_update(s2)\n",
    "    elif p=='update':\n",
    "        s.update(s2)\n",
    "    elif p=='symmetric_difference_update':\n",
    "        s.symmetric_difference_update(s2)\n",
    "    elif p=='difference_update':\n",
    "        s.difference_update(s2)\n",
    "print(sum(s))"
   ]
  },
  {
   "cell_type": "markdown",
   "id": "1ed642c9",
   "metadata": {},
   "source": [
    "### check subset"
   ]
  },
  {
   "cell_type": "code",
   "execution_count": 43,
   "id": "f479e3e5",
   "metadata": {},
   "outputs": [
    {
     "name": "stdout",
     "output_type": "stream",
     "text": [
      "3\n",
      "4\n",
      "1 2 3 4\n",
      "{1, 2, 3, 4}\n",
      "\n",
      "5\n",
      "1 2 3 4 5\n",
      "{1, 2, 3, 4, 5}\n",
      "\n",
      "True\n",
      "2\n",
      "5 6 \n",
      "{5, 6}\n",
      "\n",
      "3\n",
      "5 6 0\n",
      "{0, 5, 6}\n",
      "\n",
      "True\n",
      "6\n",
      "3 0 8 6 9 5\n",
      "{0, 3, 5, 6, 8, 9}\n",
      "\n",
      "3\n",
      " 9 7 0\n",
      "{0, 9, 7}\n",
      "\n",
      "False\n"
     ]
    }
   ],
   "source": [
    "for i in range(int(input())):\n",
    "    a = int(input())\n",
    "    set_a = set(map(int, input().split()))\n",
    "    print(set_a)\n",
    "    print('')\n",
    "\n",
    "    b = int(input())\n",
    "    set_b = set(map(int, input().split()))\n",
    "    print(set_b)\n",
    "    print('')\n",
    "\n",
    "    if len(set_a - set_b) == 0:\n",
    "        print(\"True\")\n",
    "    else:\n",
    "        print(\"False\")"
   ]
  },
  {
   "cell_type": "markdown",
   "id": "1db5bb5c",
   "metadata": {},
   "source": [
    "### Check Strict Superset "
   ]
  },
  {
   "cell_type": "code",
   "execution_count": 26,
   "id": "648183ba",
   "metadata": {},
   "outputs": [
    {
     "name": "stdout",
     "output_type": "stream",
     "text": [
      "1 2 3 4 5 5 6 6 8 7  65 80 45\n",
      "3\n",
      "1 2 4 3\n",
      "5 47 8 6\n",
      "4 3 1 9\n",
      "False\n"
     ]
    }
   ],
   "source": [
    "storage = set(input().split())\n",
    "N = int(input())\n",
    "output = True\n",
    "\n",
    "for i in range(N):\n",
    "    storage2 = set(input().split())\n",
    "    if not storage2.issubset(storage):\n",
    "        output = False\n",
    "    if len(storage2) >= len(storage):\n",
    "        output = False\n",
    "\n",
    "print(output)"
   ]
  },
  {
   "cell_type": "markdown",
   "id": "798340d1",
   "metadata": {},
   "source": [
    "### List "
   ]
  },
  {
   "cell_type": "code",
   "execution_count": 55,
   "id": "72be9fc6",
   "metadata": {},
   "outputs": [
    {
     "name": "stdout",
     "output_type": "stream",
     "text": [
      "13\n",
      "insert 6 7\n",
      "['insert', '6', '7']\n",
      "insert 8 2\n",
      "['insert', '8', '2']\n",
      "insert 1 4\n",
      "['insert', '1', '4']\n",
      "print\n",
      "['print']\n",
      "[7, 4, 2]\n",
      "remove 4\n",
      "['remove', '4']\n",
      "append 2\n",
      "['append', '2']\n",
      "print\n",
      "['print']\n",
      "[7, 2, 2]\n",
      "sort\n",
      "['sort']\n",
      "print\n",
      "['print']\n",
      "[2, 2, 7]\n",
      "reverse\n",
      "['reverse']\n",
      "print\n",
      "['print']\n",
      "[7, 2, 2]\n",
      "pop\n",
      "['pop']\n",
      "print\n",
      "['print']\n",
      "[7, 2]\n"
     ]
    }
   ],
   "source": [
    "L = []\n",
    "\n",
    "N = int(input())\n",
    "\n",
    "for i in range(0, N):\n",
    "    tokens = input().split()\n",
    "    print(tokens)\n",
    "\n",
    "    if tokens[0] == 'insert':\n",
    "        L.insert(int(tokens[1]), int(tokens[2]))\n",
    "    elif tokens[0] == 'print':\n",
    "        print(L)\n",
    "    elif tokens[0] == 'remove':\n",
    "        L.remove(int(tokens[1]))\n",
    "    elif tokens[0] == 'append':\n",
    "        L.append(int(tokens[1]))\n",
    "    elif tokens[0] == 'sort':\n",
    "        L.sort()\n",
    "    elif tokens[0] == 'pop':\n",
    "        L.pop()\n",
    "    elif tokens[0] == 'reverse':\n",
    "        L.reverse()"
   ]
  },
  {
   "cell_type": "markdown",
   "id": "1c8e840f",
   "metadata": {},
   "source": [
    "### set.discard(),set.remove(),set.pop() "
   ]
  },
  {
   "cell_type": "code",
   "execution_count": 17,
   "id": "2b26164b",
   "metadata": {},
   "outputs": [
    {
     "name": "stdout",
     "output_type": "stream",
     "text": [
      "1 2 3 4 5 6 7 8 9\n",
      "9\n",
      "pop\n",
      "remove 9\n",
      "discard 9\n",
      "discard 8\n",
      "remove 7\n",
      "pop\n",
      "discard 6\n",
      "remove 5\n",
      "pop\n",
      "4\n"
     ]
    }
   ],
   "source": [
    "# n = int(input())\n",
    "s = set(map(int, input().split()))\n",
    "N = int(input())\n",
    "for i in range(N):\n",
    "    cmd = list(map(str, input().split()))\n",
    "    if cmd[0] == \"pop\":\n",
    "        s.pop()\n",
    "    elif cmd[0] == \"remove\":\n",
    "        try:\n",
    "            s.remove(int(cmd[1]))\n",
    "        except:\n",
    "            continue\n",
    "    elif cmd[0] == \"discard\":\n",
    "        try:\n",
    "            s.discard(int(cmd[1]))\n",
    "        except:\n",
    "            continue\n",
    "print(sum(s))"
   ]
  },
  {
   "cell_type": "markdown",
   "id": "54362aba",
   "metadata": {},
   "source": [
    "### The Captain Room "
   ]
  },
  {
   "cell_type": "code",
   "execution_count": 24,
   "id": "0f8a43da",
   "metadata": {},
   "outputs": [
    {
     "name": "stdout",
     "output_type": "stream",
     "text": [
      "1 2 3 6 5 4 4 2 5 3 6 1 6 5 3 2 4 1 2 5 1 4 3 6 8 4 3 1 5 6 2\n",
      "{'1', '4', '6', '3', '5', '2', '8'}\n",
      "['4', '2', '5', '3', '6', '1', '6', '5', '3', '2', '4', '1', '2', '5', '1', '4', '3', '6', '4', '3', '1', '5', '6', '2']\n",
      "8\n"
     ]
    }
   ],
   "source": [
    "# N = input()\n",
    "room_list = input().split()\n",
    "room_set = set(room_list)\n",
    "\n",
    "print(room_set)\n",
    "\n",
    "for ele in list(room_set):\n",
    "    room_list.remove(ele)\n",
    "print(room_list)\n",
    "\n",
    "captain_room_num = room_set.difference(set(room_list)).pop()\n",
    "print(captain_room_num)"
   ]
  },
  {
   "cell_type": "code",
   "execution_count": null,
   "id": "f74b2d0d",
   "metadata": {},
   "outputs": [],
   "source": []
  },
  {
   "cell_type": "code",
   "execution_count": 25,
   "id": "8eab414c",
   "metadata": {},
   "outputs": [
    {
     "name": "stdout",
     "output_type": "stream",
     "text": [
      "3 2\n",
      "1 5 3\n",
      "3 1\n",
      "5 7\n",
      "1\n"
     ]
    }
   ],
   "source": [
    "N = input().split()\n",
    "M = input().split()\n",
    "A = set(input().split())\n",
    "B = set(input().split())\n",
    "\n",
    "counter = 0\n",
    "\n",
    "for i in M:\n",
    "    if i in A:\n",
    "        counter += 1\n",
    "    if i in B:\n",
    "        counter -= 1\n",
    "\n",
    "print(counter)"
   ]
  },
  {
   "cell_type": "code",
   "execution_count": null,
   "id": "599849e4",
   "metadata": {},
   "outputs": [],
   "source": []
  }
 ],
 "metadata": {
  "kernelspec": {
   "display_name": "Python 3 (ipykernel)",
   "language": "python",
   "name": "python3"
  },
  "language_info": {
   "codemirror_mode": {
    "name": "ipython",
    "version": 3
   },
   "file_extension": ".py",
   "mimetype": "text/x-python",
   "name": "python",
   "nbconvert_exporter": "python",
   "pygments_lexer": "ipython3",
   "version": "3.9.13"
  }
 },
 "nbformat": 4,
 "nbformat_minor": 5
}
